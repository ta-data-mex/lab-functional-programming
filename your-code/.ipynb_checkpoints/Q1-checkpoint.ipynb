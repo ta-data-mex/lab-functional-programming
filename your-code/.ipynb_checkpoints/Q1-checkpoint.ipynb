{
 "cells": [
  {
   "cell_type": "markdown",
   "metadata": {},
   "source": [
    "In the cell below, create a Python function that wraps your previous solution for the Bag of Words lab.\n",
    "\n",
    "Requirements:\n",
    "\n",
    "1. Your function should accept the following parameters:\n",
    "    * `docs` [REQUIRED] - array of document paths.\n",
    "    * `stop_words` [OPTIONAL] - array of stop words. The default value is an empty array.\n",
    "\n",
    "1. Your function should return a Python object that contains the following:\n",
    "    * `bag_of_words` - array of strings of normalized unique words in the corpus.\n",
    "    * `term_freq` - array of the term-frequency vectors."
   ]
  },
  {
   "cell_type": "code",
   "execution_count": 38,
   "metadata": {},
   "outputs": [
    {
     "data": {
      "text/plain": [
       "{'bag_of_words': ['ironhack',\n",
       "  'is',\n",
       "  'cooli',\n",
       "  'love',\n",
       "  'ironhacki',\n",
       "  'am',\n",
       "  'a',\n",
       "  'student',\n",
       "  'at'],\n",
       " 'term_freq': [[1, 1, 0, 0, 0, 0, 0, 0, 0],\n",
       "  [1, 0, 0, 1, 0, 0, 0, 0, 0],\n",
       "  [1, 0, 0, 0, 0, 1, 1, 1, 1]]}"
      ]
     },
     "execution_count": 38,
     "metadata": {},
     "output_type": "execute_result"
    }
   ],
   "source": [
    "# Import required libraries\n",
    "import re\n",
    "# Define function\n",
    "def get_bow_from_docs(docs, stop_words=[]):\n",
    "       \n",
    "    # In the function, first define the variables you will use such as `corpus`, `bag_of_words`, and `term_freq`.\n",
    "    corpus = []\n",
    "    bag_of_words=[]\n",
    "    term_freq=[]    \n",
    "    \"\"\"\n",
    "    Loop `docs` and read the content of each doc into a string in `corpus`.\n",
    "    Remember to convert the doc content to lowercases and remove punctuation.\n",
    "    \"\"\"\n",
    "    path='C:/Users/User/lab-string-operations/your-code/'\n",
    "    for archivo in docs:\n",
    "        with open(path+archivo,\"r\") as f:\n",
    "            lines=f.readlines()\n",
    "            for line in lines:\n",
    "                corpus.append(line)\n",
    "    corpus2=[]\n",
    "    for word in corpus:\n",
    "        w=word.lower()\n",
    "        w=w.replace('.','')\n",
    "        corpus2.append(w)\n",
    "    corpus=corpus2\n",
    "    \n",
    "    \n",
    "    \"\"\"\n",
    "    Loop `corpus`. Append the terms in each doc into the `bag_of_words` array. The terms in `bag_of_words` \n",
    "    should be unique which means before adding each term you need to check if it's already added to the array.\n",
    "    In addition, check if each term is in the `stop_words` array. Only append the term to `bag_of_words`\n",
    "    if it is not a stop word.\n",
    "    \"\"\"\n",
    "    break_array_strings=(''.join(corpus)).split()\n",
    "    \n",
    "    for word in break_array_strings:\n",
    "        if word not in bag_of_words:\n",
    "            bag_of_words.append(word)\n",
    "            \n",
    "    for i in stop_words:\n",
    "        if i in bag_of_words:\n",
    "            bag_of_words.remove(i)\n",
    "            \n",
    "    for doc in corpus:\n",
    "        x=[]\n",
    "        for w in bag_of_words:\n",
    "            d=doc.split()\n",
    "            r=d.count(w)\n",
    "            x.append(r)\n",
    "        term_freq.append(x)\n",
    "\n",
    "    \n",
    "    \n",
    "    \n",
    "    \"\"\"\n",
    "    Loop `corpus` again. For each doc string, count the number of occurrences of each term in `bag_of_words`. \n",
    "    Create an array for each doc's term frequency and append it to `term_freq`.\n",
    "    \"\"\"\n",
    "\n",
    "    \n",
    "    \n",
    "    # Now return your output as an object\n",
    "    return {\n",
    "        \"bag_of_words\": bag_of_words,\n",
    "        \"term_freq\": term_freq\n",
    "    }\n",
    "docs=['doc1.txt','doc2.txt','doc3.txt']\n",
    "get_bow_from_docs(docs)"
   ]
  },
  {
   "cell_type": "markdown",
   "metadata": {},
   "source": [
    "Test your function without stop words. You should see the output like below:\n",
    "\n",
    "```{'bag_of_words': ['ironhack', 'is', 'cool', 'i', 'love', 'am', 'a', 'student', 'at'], 'term_freq': [[1, 1, 1, 0, 0, 0, 0, 0, 0], [1, 0, 0, 1, 1, 0, 0, 0, 0], [1, 0, 0, 1, 0, 1, 1, 1, 1]]}```"
   ]
  },
  {
   "cell_type": "code",
   "execution_count": 39,
   "metadata": {},
   "outputs": [
    {
     "name": "stdout",
     "output_type": "stream",
     "text": [
      "{'bag_of_words': ['ironhack', 'is', 'cooli', 'love', 'ironhacki', 'am', 'a', 'student', 'at'], 'term_freq': [[1, 1, 0, 0, 0, 0, 0, 0, 0], [1, 0, 0, 1, 0, 0, 0, 0, 0], [1, 0, 0, 0, 0, 1, 1, 1, 1]]}\n"
     ]
    }
   ],
   "source": [
    "# Define doc paths array\n",
    "docs =['doc1.txt','doc2.txt','doc3.txt']\n",
    "\n",
    "# Obtain BoW from your function\n",
    "bow = get_bow_from_docs(docs)\n",
    "\n",
    "# Print BoW\n",
    "print(bow)"
   ]
  },
  {
   "cell_type": "markdown",
   "metadata": {},
   "source": [
    "If your attempt above is successful, nice work done!\n",
    "\n",
    "Now test your function again with the stop words. In the previous lab we defined the stop words in a large array. In this lab, we'll import the stop words from Scikit-Learn."
   ]
  },
  {
   "cell_type": "code",
   "execution_count": 40,
   "metadata": {},
   "outputs": [
    {
     "name": "stdout",
     "output_type": "stream",
     "text": [
      "frozenset({'keep', 'down', 'along', 'cant', 'should', 'all', 'both', 'beforehand', 'someone', 'nobody', 'over', 'anyone', 'on', 'between', 'whole', 'is', 'indeed', 'twelve', 'while', 'will', 'no', 'made', 'cannot', 'few', 'becomes', 'i', 'anywhere', 'could', 'again', 'where', 'in', 'hereupon', 'are', 'whom', 'full', 'can', 'often', 'mine', 'after', 'here', 'herein', 'hence', 'ie', 'un', 'noone', 'sixty', 'out', 'be', 'now', 'across', 'still', 'would', 'interest', 'during', 'our', 'seems', 'what', 'even', 'put', 'everything', 'being', 'your', 'afterwards', 'something', 'through', 'was', 'show', 'onto', 'former', 'latterly', 'many', 'either', 'sincere', 'hundred', 'next', 'detail', 'of', 'most', 'besides', 'with', 'were', 'fire', 'top', 'until', 'at', 'himself', 'must', 'who', 'though', 'mill', 'became', 'otherwise', 'also', 'why', 'might', 'upon', 'find', 'see', 'however', 'more', 'always', 'another', 'my', 'fill', 'off', 'wherever', 'describe', 'above', 'us', 'give', 'couldnt', 'not', 'when', 'already', 'none', 'herself', 'ours', 'than', 'once', 'him', 'per', 'into', 'to', 'front', 'inc', 'part', 'thereby', 'below', 'own', 'whereby', 'somehow', 'behind', 'well', 'hers', 'how', 'from', 'thin', 'third', 'whose', 'ltd', 'those', 'side', 'whither', 'wherein', 'about', 'ourselves', 'thick', 'am', 'itself', 'which', 'then', 'for', 'system', 'anyhow', 'eg', 'nowhere', 'against', 'whence', 'same', 'too', 'except', 'serious', 'elsewhere', 'seemed', 'moreover', 'so', 'amount', 'go', 'since', 'everyone', 'yourselves', 'their', 'do', 'call', 'one', 'the', 'almost', 'alone', 'as', 'hereby', 'six', 'myself', 'nine', 'anyway', 'because', 'co', 'up', 'thence', 'sometime', 'name', 'but', 'three', 'formerly', 'me', 'meanwhile', 'fifty', 'hasnt', 'somewhere', 'ever', 'else', 'it', 'some', 'found', 'nor', 'take', 'and', 'whereupon', 'yet', 'without', 'perhaps', 'they', 'last', 'nevertheless', 'therefore', 'this', 'further', 'move', 'mostly', 'an', 'eight', 'each', 'towards', 'has', 'a', 'latter', 'you', 'due', 'around', 'whoever', 'back', 'whereas', 'or', 'everywhere', 'bill', 'beside', 'neither', 'etc', 'first', 'yours', 'anything', 'seeming', 'thereupon', 'two', 'within', 'namely', 'these', 'other', 'every', 'its', 'them', 'under', 'empty', 'themselves', 'toward', 'whether', 'others', 'twenty', 'she', 'yourself', 'thru', 'get', 'together', 'several', 'con', 'becoming', 'hereafter', 'any', 're', 'de', 'therein', 'that', 'seem', 'before', 'among', 'via', 'please', 'he', 'such', 'been', 'beyond', 'become', 'bottom', 'less', 'thus', 'by', 'if', 'much', 'eleven', 'forty', 'thereafter', 'whatever', 'only', 'her', 'amongst', 'have', 'whereafter', 'his', 'there', 'enough', 'we', 'cry', 'five', 'rather', 'fifteen', 'nothing', 'least', 'whenever', 'throughout', 'although', 'sometimes', 'ten', 'very', 'done', 'amoungst', 'had', 'four', 'never', 'may'})\n"
     ]
    }
   ],
   "source": [
    "from sklearn.feature_extraction import _stop_words\n",
    "print(_stop_words.ENGLISH_STOP_WORDS)"
   ]
  },
  {
   "cell_type": "markdown",
   "metadata": {},
   "source": [
    "You should have seen a large list of words that looks like:\n",
    "\n",
    "```frozenset({'across', 'mine', 'cannot', ...})```\n",
    "\n",
    "`frozenset` is a type of Python object that is immutable. In this lab you can use it just like an array without conversion."
   ]
  },
  {
   "cell_type": "markdown",
   "metadata": {},
   "source": [
    "Next, test your function with supplying `stop_words.ENGLISH_STOP_WORDS` as the second parameter."
   ]
  },
  {
   "cell_type": "code",
   "execution_count": 42,
   "metadata": {},
   "outputs": [
    {
     "name": "stdout",
     "output_type": "stream",
     "text": [
      "{'bag_of_words': ['ironhack', 'cooli', 'love', 'ironhacki', 'student'], 'term_freq': [[1, 0, 0, 0, 0], [1, 0, 1, 0, 0], [1, 0, 0, 0, 1]]}\n"
     ]
    }
   ],
   "source": [
    "bow = get_bow_from_docs(docs, _stop_words.ENGLISH_STOP_WORDS)\n",
    "\n",
    "print(bow)"
   ]
  },
  {
   "cell_type": "markdown",
   "metadata": {},
   "source": [
    "You should have seen:\n",
    "\n",
    "```{'bag_of_words': ['ironhack', 'cool', 'love', 'student'], 'term_freq': [[1, 1, 0, 0], [1, 0, 1, 0], [1, 0, 0, 1]]}```"
   ]
  },
  {
   "cell_type": "code",
   "execution_count": null,
   "metadata": {},
   "outputs": [],
   "source": []
  }
 ],
 "metadata": {
  "kernelspec": {
   "display_name": "Python 3",
   "language": "python",
   "name": "python3"
  },
  "language_info": {
   "codemirror_mode": {
    "name": "ipython",
    "version": 3
   },
   "file_extension": ".py",
   "mimetype": "text/x-python",
   "name": "python",
   "nbconvert_exporter": "python",
   "pygments_lexer": "ipython3",
   "version": "3.9.4"
  }
 },
 "nbformat": 4,
 "nbformat_minor": 2
}
