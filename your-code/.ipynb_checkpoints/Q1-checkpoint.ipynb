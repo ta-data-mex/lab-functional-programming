{
 "cells": [
  {
   "cell_type": "markdown",
   "metadata": {},
   "source": [
    "In the cell below, create a Python function that wraps your previous solution for the Bag of Words lab.\n",
    "\n",
    "Requirements:\n",
    "\n",
    "1. Your function should accept the following parameters:\n",
    "    * `docs` [REQUIRED] - array of document paths.\n",
    "    * `stop_words` [OPTIONAL] - array of stop words. The default value is an empty array.\n",
    "\n",
    "1. Your function should return a Python object that contains the following:\n",
    "    * `bag_of_words` - array of strings of normalized unique words in the corpus.\n",
    "    * `term_freq` - array of the term-frequency vectors."
   ]
  },
  {
   "cell_type": "code",
   "execution_count": 15,
   "metadata": {},
   "outputs": [],
   "source": [
    "# Import required libraries\n",
    "import os\n",
    "import re\n",
    "\n",
    "docs_names = ['doc1.txt', 'doc2.txt', 'doc3.txt']\n",
    "\n",
    "\n",
    "# Define function\n",
    "def get_bow_from_docs(docs, stop_words=[]):\n",
    "    \n",
    "    # In the function, first define the variables you will use such as `corpus`, `bag_of_words`, and `term_freq`.\n",
    "    corpus = [open('../lab-string-operations/your-code/' + x).read() for x in docs]\n",
    "    \n",
    "    corpus_l = []\n",
    "    for s in corpus:\n",
    "        x = s.lower().replace('.', '')\n",
    "        corpus_l.append(x)\n",
    "    #print(corpus_l)\n",
    "    \n",
    "    bag_of_words = []\n",
    "    \n",
    "    for s in corpus_l:\n",
    "        y = re.split(\" \", s)\n",
    "        for f in y:\n",
    "            if f not in bag_of_words and f not in stop_words:\n",
    "                bag_of_words.append(f)\n",
    "    #print(bag_of_words)\n",
    "        \n",
    "    term_freq = []\n",
    "    pieces = []\n",
    "\n",
    "    for x in corpus_l:\n",
    "        pieces.append(x.split(\" \"))\n",
    "    #print(pieces)\n",
    "\n",
    "    for s in pieces:\n",
    "        temp = []\n",
    "        for b in bag_of_words:\n",
    "            y = s.count(b)\n",
    "            temp.append(y)\n",
    "        term_freq.append(temp)\n",
    "            \n",
    "    #print(term_freq)\n",
    "    \n",
    "    \n",
    "    \"\"\"\n",
    "    Loop `docs` and read the content of each doc into a string in `corpus`.\n",
    "    Remember to convert the doc content to lowercases and remove punctuation.\n",
    "    \"\"\"\n",
    "\n",
    "    \n",
    "    \n",
    "    \"\"\"\n",
    "    Loop `corpus`. Append the terms in each doc into the `bag_of_words` array. The terms in `bag_of_words` \n",
    "    should be unique which means before adding each term you need to check if it's already added to the array.\n",
    "    In addition, check if each term is in the `stop_words` array. Only append the term to `bag_of_words`\n",
    "    if it is not a stop word.\n",
    "    \"\"\"\n",
    "\n",
    "    \n",
    "    \n",
    "    \n",
    "    \"\"\"\n",
    "    Loop `corpus` again. For each doc string, count the number of occurrences of each term in `bag_of_words`. \n",
    "    Create an array for each doc's term frequency and append it to `term_freq`.\n",
    "    \"\"\"\n",
    "\n",
    "    \n",
    "    \n",
    "    # Now return your output as an object\n",
    "    return {\n",
    "        \"bag_of_words\": bag_of_words,\n",
    "        \"term_freq\": term_freq\n",
    "    }\n",
    "    "
   ]
  },
  {
   "cell_type": "code",
   "execution_count": 10,
   "metadata": {},
   "outputs": [
    {
     "name": "stdout",
     "output_type": "stream",
     "text": [
      "{'bag_of_words': ['ironhack', 'is', 'cool', 'i', 'love', 'am', 'a', 'student', 'at'], 'term_freq': [[1, 1, 1, 0, 0, 0, 0, 0, 0], [1, 0, 0, 1, 1, 0, 0, 0, 0], [1, 0, 0, 1, 0, 1, 1, 1, 1]]}\n"
     ]
    }
   ],
   "source": [
    "print(get_bow_from_docs(docs_names))"
   ]
  },
  {
   "cell_type": "markdown",
   "metadata": {},
   "source": [
    "Test your function without stop words. You should see the output like below:\n",
    "\n",
    "```{'bag_of_words': ['ironhack', 'is', 'cool', 'i', 'love', 'am', 'a', 'student', 'at'], 'term_freq': [[1, 1, 1, 0, 0, 0, 0, 0, 0], [1, 0, 0, 1, 1, 0, 0, 0, 0], [1, 0, 0, 1, 0, 1, 1, 1, 1]]}```"
   ]
  },
  {
   "cell_type": "code",
   "execution_count": 17,
   "metadata": {},
   "outputs": [
    {
     "name": "stdout",
     "output_type": "stream",
     "text": [
      "{'bag_of_words': ['ironhack', 'is', 'cool', 'i', 'love', 'am', 'a', 'student', 'at'], 'term_freq': [[1, 1, 1, 0, 0, 0, 0, 0, 0], [1, 0, 0, 1, 1, 0, 0, 0, 0], [1, 0, 0, 1, 0, 1, 1, 1, 1]]}\n"
     ]
    }
   ],
   "source": [
    "# Define doc paths array\n",
    "docs_names = ['doc1.txt', 'doc2.txt', 'doc3.txt']\n",
    "\n",
    "# Obtain BoW from your function\n",
    "bow = get_bow_from_docs(docs_names)\n",
    "\n",
    "# Print BoW\n",
    "print(bow)"
   ]
  },
  {
   "cell_type": "markdown",
   "metadata": {},
   "source": [
    "If your attempt above is successful, nice work done!\n",
    "\n",
    "Now test your function again with the stop words. In the previous lab we defined the stop words in a large array. In this lab, we'll import the stop words from Scikit-Learn."
   ]
  },
  {
   "cell_type": "code",
   "execution_count": 12,
   "metadata": {},
   "outputs": [
    {
     "name": "stdout",
     "output_type": "stream",
     "text": [
      "frozenset({'ie', 'became', 'someone', 'since', 'somehow', 'have', 'thence', 'whereas', 'two', 'beyond', 'himself', 'then', 'well', 'a', 'less', 'to', 'ourselves', 'elsewhere', 'hereby', 'below', 'often', 'thereafter', 'whose', 'becoming', 'beside', 'down', 'only', 'therefore', 'five', 'hundred', 'no', 'should', 'somewhere', 'am', 'everyone', 'yourselves', 'show', 'already', 'amoungst', 'due', 'alone', 'behind', 'may', 'amongst', 'out', 'toward', 'indeed', 'it', 'full', 'whereafter', 'about', 'or', 'un', 'around', 'sometimes', 'in', 'the', 'has', 'third', 'one', 'he', 'further', 'made', 'any', 'empty', 'more', 'thru', 'at', 'nor', 'onto', 'very', 'anyway', 'side', 'besides', 'anyone', 'anyhow', 'between', 'last', 'get', 'take', 'here', 'fill', 'both', 'me', 'before', 'three', 'fifty', 'whatever', 'herein', 'ever', 'meanwhile', 'when', 'over', 'are', 'latterly', 'together', 'whereby', 'each', 'off', 'into', 'system', 'thereby', 'becomes', 'herself', 'themselves', 'seems', 'why', 'yet', 'yours', 'also', 'keep', 'fifteen', 'thick', 'serious', 'your', 'wherever', 'but', 'cannot', 'de', 'done', 'see', 'beforehand', 'by', 'former', 'nobody', 'enough', 'there', 'what', 'which', 'ltd', 'cry', 'bill', 'part', 'thereupon', 'now', 'nevertheless', 'still', 'up', 'and', 'with', 'co', 'been', 'please', 'ten', 'hers', 'whether', 'eg', 'next', 'she', 'seeming', 'another', 'her', 'few', 'con', 'something', 'throughout', 'anything', 'eleven', 'his', 'until', 'were', 'everywhere', 'cant', 'whole', 'whom', 'much', 'go', 'whereupon', 'had', 'otherwise', 'via', 'not', 'back', 'move', 'under', 'too', 'whence', 'sometime', 'everything', 'nothing', 'across', 'twenty', 'along', 'front', 'find', 'be', 'their', 'without', 'among', 'where', 'twelve', 'none', 'can', 'than', 'wherein', 'interest', 'must', 'if', 'these', 'bottom', 'formerly', 'fire', 'them', 'others', 'as', 'our', 'six', 'other', 'put', 'most', 're', 'every', 'anywhere', 'own', 'become', 'first', 'against', 'couldnt', 'eight', 'least', 'hereafter', 'all', 'that', 'itself', 'found', 'upon', 'would', 'namely', 'call', 'etc', 'of', 'hence', 'during', 'mostly', 'such', 'him', 'seem', 'latter', 'within', 'mill', 'nowhere', 'an', 'per', 'i', 'noone', 'rather', 'so', 'some', 'forty', 'they', 'being', 'us', 'might', 'was', 'neither', 'you', 'yourself', 'nine', 'after', 'its', 'although', 'ours', 'never', 'thus', 'hereupon', 'because', 'many', 'who', 'else', 'perhaps', 'above', 'four', 'therein', 'seemed', 'do', 'describe', 'my', 'thin', 'those', 'whenever', 'always', 'while', 'afterwards', 'could', 'top', 'again', 'whither', 'name', 'however', 'from', 'will', 'give', 'amount', 'except', 'for', 'how', 'moreover', 'hasnt', 'inc', 'either', 'almost', 'is', 'same', 'myself', 'detail', 'once', 'even', 'towards', 'whoever', 'through', 'several', 'we', 'sincere', 'mine', 'this', 'sixty', 'though', 'on'})\n"
     ]
    }
   ],
   "source": [
    "from sklearn.feature_extraction import stop_words\n",
    "print(stop_words.ENGLISH_STOP_WORDS)"
   ]
  },
  {
   "cell_type": "markdown",
   "metadata": {},
   "source": [
    "You should have seen a large list of words that looks like:\n",
    "\n",
    "```frozenset({'across', 'mine', 'cannot', ...})```\n",
    "\n",
    "`frozenset` is a type of Python object that is immutable. In this lab you can use it just like an array without conversion."
   ]
  },
  {
   "cell_type": "markdown",
   "metadata": {},
   "source": [
    "Next, test your function with supplying `stop_words.ENGLISH_STOP_WORDS` as the second parameter."
   ]
  },
  {
   "cell_type": "code",
   "execution_count": 19,
   "metadata": {},
   "outputs": [
    {
     "name": "stdout",
     "output_type": "stream",
     "text": [
      "{'bag_of_words': ['ironhack', 'cool', 'love', 'student'], 'term_freq': [[1, 1, 0, 0], [1, 0, 1, 0], [1, 0, 0, 1]]}\n"
     ]
    }
   ],
   "source": [
    "bow = get_bow_from_docs(docs_names, stop_words.ENGLISH_STOP_WORDS)\n",
    "\n",
    "print(bow)"
   ]
  },
  {
   "cell_type": "markdown",
   "metadata": {},
   "source": [
    "You should have seen:\n",
    "\n",
    "```{'bag_of_words': ['ironhack', 'cool', 'love', 'student'], 'term_freq': [[1, 1, 0, 0], [1, 0, 1, 0], [1, 0, 0, 1]]}```"
   ]
  }
 ],
 "metadata": {
  "kernelspec": {
   "display_name": "Python 3",
   "language": "python",
   "name": "python3"
  },
  "language_info": {
   "codemirror_mode": {
    "name": "ipython",
    "version": 3
   },
   "file_extension": ".py",
   "mimetype": "text/x-python",
   "name": "python",
   "nbconvert_exporter": "python",
   "pygments_lexer": "ipython3",
   "version": "3.6.5"
  }
 },
 "nbformat": 4,
 "nbformat_minor": 2
}
