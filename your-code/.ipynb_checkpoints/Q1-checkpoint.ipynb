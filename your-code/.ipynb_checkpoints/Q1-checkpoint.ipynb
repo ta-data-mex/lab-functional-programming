{
 "cells": [
  {
   "cell_type": "markdown",
   "metadata": {},
   "source": [
    "In the cell below, create a Python function that wraps your previous solution for the Bag of Words lab.\n",
    "\n",
    "Requirements:\n",
    "\n",
    "1. Your function should accept the following parameters:\n",
    "    * `docs` [REQUIRED] - array of document paths.\n",
    "    * `stop_words` [OPTIONAL] - array of stop words. The default value is an empty array.\n",
    "\n",
    "1. Your function should return a Python object that contains the following:\n",
    "    * `bag_of_words` - array of strings of normalized unique words in the corpus.\n",
    "    * `term_freq` - array of the term-frequency vectors."
   ]
  },
  {
   "cell_type": "code",
   "execution_count": 7,
   "metadata": {},
   "outputs": [],
   "source": [
    "# Import required libraries\n",
    "\n",
    "# Define function\n",
    "def get_bow_from_docs(docs, stop_words=[]):\n",
    "    \n",
    "    # In the function, first define the variables you will use such as `corpus`, `bag_of_words`, and `term_freq`.\n",
    "    \n",
    "    \"\"\"\n",
    "    Loop `docs` and read the content of each doc into a string in `corpus`.\n",
    "    Remember to convert the doc content to lowercases and remove punctuation.\n",
    "    \"\"\"\n",
    "\n",
    "    \n",
    "    \n",
    "    \"\"\"\n",
    "    Loop `corpus`. Append the terms in each doc into the `bag_of_words` array. The terms in `bag_of_words` \n",
    "    should be unique which means before adding each term you need to check if it's already added to the array.\n",
    "    In addition, check if each term is in the `stop_words` array. Only append the term to `bag_of_words`\n",
    "    if it is not a stop word.\n",
    "    \"\"\"\n",
    "\n",
    "    \n",
    "    \n",
    "    \n",
    "    \"\"\"\n",
    "    Loop `corpus` again. For each doc string, count the number of occurrences of each term in `bag_of_words`. \n",
    "    Create an array for each doc's term frequency and append it to `term_freq`.\n",
    "    \"\"\"\n",
    "    \n",
    "    corpus = [open(file,'r').read().lower().replace(',','').replace(';','').replace('.','') for file in docs]\n",
    "    \n",
    "    bag_of_words = list(set([word for line in corpus for word in line.split() if not word in stop_words]))\n",
    "    \n",
    "    term_freq = [[text.split().count(word) for word in bag_of_words] for text in corpus]\n",
    "    \n",
    "    \n",
    "    # Now return your output as an object\n",
    "    return {\n",
    "        \"bag_of_words\": bag_of_words,\n",
    "        \"term_freq\": term_freq\n",
    "    }\n",
    "    "
   ]
  },
  {
   "cell_type": "markdown",
   "metadata": {},
   "source": [
    "Test your function without stop words. You should see the output like below:\n",
    "\n",
    "```{'bag_of_words': ['ironhack', 'is', 'cool', 'i', 'love', 'am', 'a', 'student', 'at'], 'term_freq': [[1, 1, 1, 0, 0, 0, 0, 0, 0], [1, 0, 0, 1, 1, 0, 0, 0, 0], [1, 0, 0, 1, 0, 1, 1, 1, 1]]}```"
   ]
  },
  {
   "cell_type": "code",
   "execution_count": 21,
   "metadata": {},
   "outputs": [
    {
     "name": "stdout",
     "output_type": "stream",
     "text": [
      "{'bag_of_words': ['student', 'love', 'am', 'ironhack', 'a', 'at', 'is', 'cool', 'i'], 'term_freq': [[0, 0, 0, 1, 0, 0, 1, 1, 0], [0, 1, 0, 1, 0, 0, 0, 0, 1], [1, 0, 1, 1, 1, 1, 0, 0, 1]]}\n"
     ]
    }
   ],
   "source": [
    "# Define doc paths array\n",
    "docs = ['doc1.txt','doc2.txt','doc3.txt']\n",
    "\n",
    "# Obtain BoW from your function\n",
    "bow = get_bow_from_docs(docs)\n",
    "\n",
    "# Print BoW\n",
    "print(bow)"
   ]
  },
  {
   "cell_type": "markdown",
   "metadata": {},
   "source": [
    "If your attempt above is successful, nice work done!\n",
    "\n",
    "Now test your function again with the stop words. In the previous lab we defined the stop words in a large array. In this lab, we'll import the stop words from Scikit-Learn."
   ]
  },
  {
   "cell_type": "code",
   "execution_count": 22,
   "metadata": {},
   "outputs": [
    {
     "name": "stdout",
     "output_type": "stream",
     "text": [
      "frozenset({'becoming', 'fifty', 'would', 'system', 'take', 'etc', 'because', 'latter', 'hereafter', 'towards', 'all', 'very', 'during', 'into', 'fifteen', 'thence', 'see', 'was', 'enough', 'formerly', 'done', 'you', 'con', 'these', 'though', 'five', 'even', 'few', 'now', 'might', 'bottom', 'other', 'what', 'further', 'an', 'never', 'across', 'neither', 'has', 'fill', 'between', 'when', 'alone', 'last', 'anyway', 'most', 'were', 'become', 'first', 'under', 'however', 'whose', 'full', 'can', 'several', 'then', 'me', 'except', 're', 'two', 'whatever', 'due', 'someone', 'find', 'about', 'thru', 'therein', 'much', 'us', 'against', 'own', 'the', 'forty', 'beforehand', 'mostly', 'here', 'something', 'down', 'ourselves', 'each', 'from', 'seemed', 'no', 'after', 'at', 'that', 'indeed', 'being', 'for', 'themselves', 'amongst', 'either', 'onto', 'behind', 'more', 'couldnt', 'not', 'whereupon', 'in', 'four', 'mine', 'which', 'three', 'ie', 'eight', 'be', 'of', 'same', 'inc', 'anywhere', 'hasnt', 'less', 'keep', 'together', 'within', 'yourselves', 'through', 'it', 'are', 'herself', 'above', 'call', 'off', 'am', 'without', 'elsewhere', 'is', 'found', 'wherever', 'on', 'how', 'sometimes', 'out', 'nevertheless', 'herein', 'my', 'nothing', 'until', 'thereafter', 'their', 'whoever', 'among', 'again', 'often', 'else', 'give', 'your', 'while', 'although', 'afterwards', 'anything', 'bill', 'hers', 'once', 'thereupon', 'part', 'will', 'as', 'besides', 'cry', 'to', 'whenever', 'he', 'whereas', 'where', 'everyone', 'should', 'thick', 'have', 'and', 'via', 'eg', 'co', 'least', 'too', 'perhaps', 'but', 'hundred', 'un', 'toward', 'hereby', 'below', 'moreover', 'otherwise', 'sincere', 'upon', 'yours', 'over', 'only', 'nine', 'been', 'twenty', 'move', 'i', 'serious', 'thereby', 'myself', 'seem', 'beside', 'interest', 'put', 'throughout', 'every', 'such', 'detail', 'next', 'one', 'hereupon', 'or', 'top', 'please', 'yet', 'many', 'along', 'back', 'go', 'whereby', 'so', 'who', 'others', 'third', 'de', 'meanwhile', 'them', 'everything', 'mill', 'with', 'hence', 'some', 'her', 'fire', 'cannot', 'both', 'six', 'whom', 'whence', 'those', 'somewhere', 'whole', 'she', 'if', 'rather', 'his', 'seems', 'still', 'nowhere', 'may', 'latterly', 'front', 'show', 'none', 'per', 'we', 'amoungst', 'sixty', 'sometime', 'already', 'any', 'also', 'himself', 'why', 'nor', 'before', 'namely', 'anyone', 'twelve', 'whereafter', 'therefore', 'had', 'our', 'became', 'whether', 'well', 'ever', 'made', 'side', 'since', 'ltd', 'get', 'could', 'this', 'amount', 'always', 'describe', 'around', 'another', 'itself', 'beyond', 'yourself', 'thus', 'name', 'by', 'than', 'up', 'everywhere', 'cant', 'nobody', 'seeming', 'him', 'anyhow', 'ours', 'ten', 'there', 'noone', 'its', 'former', 'a', 'must', 'eleven', 'almost', 'empty', 'becomes', 'wherein', 'whither', 'they', 'thin', 'do', 'somehow'})\n"
     ]
    }
   ],
   "source": [
    "from sklearn.feature_extraction import stop_words\n",
    "print(stop_words.ENGLISH_STOP_WORDS)"
   ]
  },
  {
   "cell_type": "markdown",
   "metadata": {},
   "source": [
    "You should have seen a large list of words that looks like:\n",
    "\n",
    "```frozenset({'across', 'mine', 'cannot', ...})```\n",
    "\n",
    "`frozenset` is a type of Python object that is immutable. In this lab you can use it just like an array without conversion."
   ]
  },
  {
   "cell_type": "markdown",
   "metadata": {},
   "source": [
    "Next, test your function with supplying `stop_words.ENGLISH_STOP_WORDS` as the second parameter."
   ]
  },
  {
   "cell_type": "code",
   "execution_count": 25,
   "metadata": {},
   "outputs": [
    {
     "name": "stdout",
     "output_type": "stream",
     "text": [
      "{'bag_of_words': ['student', 'ironhack', 'cool', 'love'], 'term_freq': [[0, 1, 1, 0], [0, 1, 0, 1], [1, 1, 0, 0]]}\n"
     ]
    }
   ],
   "source": [
    "bow = get_bow_from_docs(docs, stop_words.ENGLISH_STOP_WORDS)\n",
    "\n",
    "print(bow)"
   ]
  },
  {
   "cell_type": "markdown",
   "metadata": {},
   "source": [
    "You should have seen:\n",
    "\n",
    "```{'bag_of_words': ['ironhack', 'cool', 'love', 'student'], 'term_freq': [[1, 1, 0, 0], [1, 0, 1, 0], [1, 0, 0, 1]]}```"
   ]
  },
  {
   "cell_type": "code",
   "execution_count": null,
   "metadata": {},
   "outputs": [],
   "source": []
  }
 ],
 "metadata": {
  "kernelspec": {
   "display_name": "Python 3",
   "language": "python",
   "name": "python3"
  },
  "language_info": {
   "codemirror_mode": {
    "name": "ipython",
    "version": 3
   },
   "file_extension": ".py",
   "mimetype": "text/x-python",
   "name": "python",
   "nbconvert_exporter": "python",
   "pygments_lexer": "ipython3",
   "version": "3.7.3"
  }
 },
 "nbformat": 4,
 "nbformat_minor": 2
}
