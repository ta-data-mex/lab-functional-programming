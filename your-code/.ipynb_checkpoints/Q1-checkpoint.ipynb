{
 "cells": [
  {
   "cell_type": "markdown",
   "metadata": {},
   "source": [
    "In the cell below, create a Python function that wraps your previous solution for the Bag of Words lab.\n",
    "\n",
    "Requirements:\n",
    "\n",
    "1. Your function should accept the following parameters:\n",
    "    * `docs` [REQUIRED] - array of document paths.\n",
    "    * `stop_words` [OPTIONAL] - array of stop words. The default value is an empty array.\n",
    "\n",
    "1. Your function should return a Python object that contains the following:\n",
    "    * `bag_of_words` - array of strings of normalized unique words in the corpus.\n",
    "    * `term_freq` - array of the term-frequency vectors."
   ]
  },
  {
   "cell_type": "code",
   "execution_count": 5,
   "metadata": {},
   "outputs": [
    {
     "name": "stdout",
     "output_type": "stream",
     "text": [
      "Ironhack is cool.\n",
      "I love Ironhack.\n",
      "I am a student at Ironhack.\n",
      "ironhack is cool i love ironhack i am a student at ironhack\n",
      "['ironhack', 'is', 'cool', 'i', 'love', 'am', 'a', 'student', 'at']\n",
      "[['ironhack', 'is', 'cool'], ['i', 'love', 'ironhack'], ['i', 'am', 'a', 'student', 'at', 'ironhack']]\n",
      "[[1, 1, 1, 0, 0, 0, 0, 0, 0], [1, 0, 0, 1, 1, 0, 0, 0, 0], [1, 0, 0, 1, 0, 1, 1, 1, 1]]\n"
     ]
    },
    {
     "data": {
      "text/plain": [
       "{'bag_of_words': ['ironhack',\n",
       "  'is',\n",
       "  'cool',\n",
       "  'i',\n",
       "  'love',\n",
       "  'am',\n",
       "  'a',\n",
       "  'student',\n",
       "  'at'],\n",
       " 'term_freq': [[1, 1, 1, 0, 0, 0, 0, 0, 0],\n",
       "  [1, 0, 0, 1, 1, 0, 0, 0, 0],\n",
       "  [1, 0, 0, 1, 0, 1, 1, 1, 1]]}"
      ]
     },
     "execution_count": 5,
     "metadata": {},
     "output_type": "execute_result"
    }
   ],
   "source": [
    "# Import required libraries\n",
    "import re\n",
    "\n",
    "# Define function\n",
    "def get_bow_from_docs(docs, stop_words=[]):\n",
    "\n",
    "        # In the function, first define the variables you will use such as `corpus`, `bag_of_words`, and `term_freq`.\n",
    "\n",
    "\n",
    "\n",
    "\n",
    "    corpus = []\n",
    "\n",
    "\n",
    "    # Write your code here\n",
    "    for i in range(len(docs)):\n",
    "        with open(docs[i], \"r\") as a_file:\n",
    "              for line in a_file:\n",
    "                stripped_line = line.strip()\n",
    "                corpus.append(stripped_line)\n",
    "                print(stripped_line)\n",
    "\n",
    "    corpus = [x.lower() for x in corpus]\n",
    "    corpus = re.sub('\\.', '', ' '.join(corpus))\n",
    "    #corpus = [re.sub(r\"\\.\",\"\",corpus[j])  for j in range(len(corpus))]\n",
    "    print(corpus)\n",
    "\n",
    "\n",
    "    corpus = corpus.split()\n",
    "    bag_of_words = []\n",
    "    for i in corpus:\n",
    "        if i not in bag_of_words:\n",
    "            bag_of_words.append(i)\n",
    "        else:\n",
    "            continue\n",
    "\n",
    "    print(bag_of_words)\n",
    "\n",
    "    corpus = ['ironhack is cool','i love ironhack','i am a student at ironhack']\n",
    "        # Write your code here\n",
    "    pieces = []\n",
    "    term_freq = []\n",
    "    for x in corpus:\n",
    "        pieces.append(x.split(\" \"))\n",
    "    print(pieces)\n",
    "\n",
    "    for s in pieces:\n",
    "        temp = []\n",
    "        for b in bag_of_words:\n",
    "            y = s.count(b)\n",
    "            temp.append(y)\n",
    "        term_freq.append(temp)\n",
    "\n",
    "    print(term_freq)\n",
    "\n",
    "        # Now return your output as an object\n",
    "    return {\n",
    "        \"bag_of_words\": bag_of_words,\n",
    "        \"term_freq\": term_freq\n",
    "    }\n",
    "    \n",
    "docs = ['doc1.txt', 'doc2.txt', 'doc3.txt']\n",
    "get_bow_from_docs(docs)\n"
   ]
  },
  {
   "cell_type": "markdown",
   "metadata": {},
   "source": [
    "Test your function without stop words. You should see the output like below:\n",
    "\n",
    "```{'bag_of_words': ['ironhack', 'is', 'cool', 'i', 'love', 'am', 'a', 'student', 'at'], 'term_freq': [[1, 1, 1, 0, 0, 0, 0, 0, 0], [1, 0, 0, 1, 1, 0, 0, 0, 0], [1, 0, 0, 1, 0, 1, 1, 1, 1]]}```"
   ]
  },
  {
   "cell_type": "code",
   "execution_count": 8,
   "metadata": {},
   "outputs": [
    {
     "name": "stdout",
     "output_type": "stream",
     "text": [
      "Ironhack is cool.\n",
      "I love Ironhack.\n",
      "I am a student at Ironhack.\n",
      "ironhack is cool i love ironhack i am a student at ironhack\n",
      "['ironhack', 'is', 'cool', 'i', 'love', 'am', 'a', 'student', 'at']\n",
      "[['ironhack', 'is', 'cool'], ['i', 'love', 'ironhack'], ['i', 'am', 'a', 'student', 'at', 'ironhack']]\n",
      "[[1, 1, 1, 0, 0, 0, 0, 0, 0], [1, 0, 0, 1, 1, 0, 0, 0, 0], [1, 0, 0, 1, 0, 1, 1, 1, 1]]\n",
      "{'bag_of_words': ['ironhack', 'is', 'cool', 'i', 'love', 'am', 'a', 'student', 'at'], 'term_freq': [[1, 1, 1, 0, 0, 0, 0, 0, 0], [1, 0, 0, 1, 1, 0, 0, 0, 0], [1, 0, 0, 1, 0, 1, 1, 1, 1]]}\n"
     ]
    }
   ],
   "source": [
    "# Define doc paths array\n",
    "docs = ['doc1.txt', 'doc2.txt', 'doc3.txt']\n",
    "\n",
    "# Obtain BoW from your function\n",
    "bow = get_bow_from_docs(docs)\n",
    "\n",
    "# Print BoW\n",
    "print(bow)"
   ]
  },
  {
   "cell_type": "markdown",
   "metadata": {},
   "source": [
    "If your attempt above is successful, nice work done!\n",
    "\n",
    "Now test your function again with the stop words. In the previous lab we defined the stop words in a large array. In this lab, we'll import the stop words from Scikit-Learn."
   ]
  },
  {
   "cell_type": "code",
   "execution_count": null,
   "metadata": {},
   "outputs": [],
   "source": []
  },
  {
   "cell_type": "code",
   "execution_count": 12,
   "metadata": {},
   "outputs": [
    {
     "name": "stdout",
     "output_type": "stream",
     "text": [
      "Collecting sklearn\n",
      "  Downloading sklearn-0.0.tar.gz (1.1 kB)\n",
      "Collecting scikit-learn\n",
      "  Downloading scikit_learn-0.24.2-cp39-cp39-macosx_10_13_x86_64.whl (7.3 MB)\n",
      "\u001b[K     |████████████████████████████████| 7.3 MB 1.4 MB/s eta 0:00:01    |▎                               | 71 kB 388 kB/s eta 0:00:19     |█████                           | 1.2 MB 540 kB/s eta 0:00:12\n",
      "\u001b[?25hCollecting threadpoolctl>=2.0.0\n",
      "  Downloading threadpoolctl-2.1.0-py3-none-any.whl (12 kB)\n",
      "Collecting joblib>=0.11\n",
      "  Downloading joblib-1.0.1-py3-none-any.whl (303 kB)\n",
      "\u001b[K     |████████████████████████████████| 303 kB 18.5 MB/s eta 0:00:01\n",
      "\u001b[?25hRequirement already satisfied: numpy>=1.13.3 in /Library/Frameworks/Python.framework/Versions/3.9/lib/python3.9/site-packages (from scikit-learn->sklearn) (1.20.3)\n",
      "Collecting scipy>=0.19.1\n",
      "  Downloading scipy-1.7.0-cp39-cp39-macosx_10_9_x86_64.whl (32.1 MB)\n",
      "\u001b[K     |████████████████████████████████| 32.1 MB 34 kB/s  eta 0:00:01     |████                            | 3.9 MB 20.8 MB/s eta 0:00:02     |█████▋                          | 5.7 MB 2.1 MB/s eta 0:00:13     |███████▍                        | 7.4 MB 2.1 MB/s eta 0:00:12     |███████▊                        | 7.7 MB 2.1 MB/s eta 0:00:12               | 8.7 MB 2.1 MB/s eta 0:00:12     |██████████▏                     | 10.2 MB 2.7 MB/s eta 0:00:09     |███████████                     | 10.9 MB 2.7 MB/s eta 0:00:08��███▌                    | 11.5 MB 2.7 MB/s eta 0:00:08     |██████████████████              | 18.2 MB 1.7 MB/s eta 0:00:09     |███████████████████             | 19.0 MB 1.7 MB/s eta 0:00:08     |███████████████████████▉        | 23.9 MB 3.2 MB/s eta 0:00:03     |████████████████████████        | 24.0 MB 3.2 MB/s eta 0:00:03\n",
      "\u001b[?25hBuilding wheels for collected packages: sklearn\n",
      "  Building wheel for sklearn (setup.py) ... \u001b[?25ldone\n",
      "\u001b[?25h  Created wheel for sklearn: filename=sklearn-0.0-py2.py3-none-any.whl size=1316 sha256=b559f5573299fb814c815e87f877c47310696271371da7e797325b440c8734fa\n",
      "  Stored in directory: /Users/edwardsanchez/Library/Caches/pip/wheels/e4/7b/98/b6466d71b8d738a0c547008b9eb39bf8676d1ff6ca4b22af1c\n",
      "Successfully built sklearn\n",
      "Installing collected packages: threadpoolctl, scipy, joblib, scikit-learn, sklearn\n",
      "Successfully installed joblib-1.0.1 scikit-learn-0.24.2 scipy-1.7.0 sklearn-0.0 threadpoolctl-2.1.0\n",
      "\u001b[33mWARNING: You are using pip version 21.1.1; however, version 21.1.2 is available.\n",
      "You should consider upgrading via the '/Library/Frameworks/Python.framework/Versions/3.9/bin/python3.9 -m pip install --upgrade pip' command.\u001b[0m\n"
     ]
    },
    {
     "ename": "ImportError",
     "evalue": "cannot import name 'stop_words' from 'sklearn.feature_extraction' (/Library/Frameworks/Python.framework/Versions/3.9/lib/python3.9/site-packages/sklearn/feature_extraction/__init__.py)",
     "output_type": "error",
     "traceback": [
      "\u001b[0;31m---------------------------------------------------------------------------\u001b[0m",
      "\u001b[0;31mImportError\u001b[0m                               Traceback (most recent call last)",
      "\u001b[0;32m<ipython-input-12-573ac9e89a53>\u001b[0m in \u001b[0;36m<module>\u001b[0;34m\u001b[0m\n\u001b[1;32m      1\u001b[0m \u001b[0mget_ipython\u001b[0m\u001b[0;34m(\u001b[0m\u001b[0;34m)\u001b[0m\u001b[0;34m.\u001b[0m\u001b[0msystem\u001b[0m\u001b[0;34m(\u001b[0m\u001b[0;34m'pip3 install sklearn'\u001b[0m\u001b[0;34m)\u001b[0m\u001b[0;34m\u001b[0m\u001b[0;34m\u001b[0m\u001b[0m\n\u001b[0;32m----> 2\u001b[0;31m \u001b[0;32mfrom\u001b[0m \u001b[0msklearn\u001b[0m\u001b[0;34m.\u001b[0m\u001b[0mfeature_extraction\u001b[0m \u001b[0;32mimport\u001b[0m \u001b[0mstop_words\u001b[0m\u001b[0;34m\u001b[0m\u001b[0;34m\u001b[0m\u001b[0m\n\u001b[0m\u001b[1;32m      3\u001b[0m \u001b[0mprint\u001b[0m\u001b[0;34m(\u001b[0m\u001b[0mstop_words\u001b[0m\u001b[0;34m.\u001b[0m\u001b[0mENGLISH_STOP_WORDS\u001b[0m\u001b[0;34m)\u001b[0m\u001b[0;34m\u001b[0m\u001b[0;34m\u001b[0m\u001b[0m\n",
      "\u001b[0;31mImportError\u001b[0m: cannot import name 'stop_words' from 'sklearn.feature_extraction' (/Library/Frameworks/Python.framework/Versions/3.9/lib/python3.9/site-packages/sklearn/feature_extraction/__init__.py)"
     ]
    }
   ],
   "source": [
    "!pip3 install sklearn\n"
   ]
  },
  {
   "cell_type": "code",
   "execution_count": 16,
   "metadata": {},
   "outputs": [
    {
     "name": "stdout",
     "output_type": "stream",
     "text": [
      "frozenset({'a', 'hence', 'nothing', 'anyone', 'from', 'each', 'their', 'how', 'down', 'enough', 'ours', 'anyhow', 'mill', 'about', 'all', 'sometime', 'anything', 'noone', 'toward', 'may', 'hereby', 'fill', 'see', 'part', 'less', 'or', 'whatever', 'and', 'twelve', 'amount', 'whereas', 'you', 'etc', 'therefore', 'still', 'above', 'often', 'whither', 'during', 'whoever', 'could', 'only', 'myself', 'by', 'indeed', 'thick', 'detail', 'these', 'ourselves', 'system', 'between', 'when', 'interest', 'empty', 'should', 'though', 'became', 'someone', 'but', 'thereafter', 'seeming', 'towards', 'per', 'de', 'itself', 'amoungst', 'eight', 'nowhere', 'upon', 're', 'everything', 'cannot', 'in', 'nine', 'hasnt', 'we', 'without', 'back', 'go', 'least', 'serious', 'while', 'eleven', 'our', 'be', 'which', 'beside', 'cant', 'neither', 'am', 'at', 'ever', 'among', 'show', 'inc', 'sometimes', 'whole', 'although', 'nobody', 'already', 'top', 'she', 'give', 'much', 'move', 'everywhere', 'besides', 'no', 'thru', 'before', 'below', 'con', 'somewhere', 'made', 'throughout', 'us', 'out', 'yet', 'never', 'the', 'of', 'are', 'who', 'yourselves', 'them', 'hereupon', 'ltd', 'might', 'mostly', 'none', 'whom', 'very', 'with', 'therein', 'sixty', 'whereupon', 'un', 'moreover', 'full', 'alone', 'latterly', 'again', 'whereafter', 'describe', 'front', 'afterwards', 'bill', 'over', 'do', 'behind', 'co', 'anyway', 'also', 'always', 'fire', 'until', 'every', 'call', 'they', 'too', 'here', 'on', 'so', 'will', 'others', 'please', 'nor', 'almost', 'everyone', 'for', 'then', 'his', 'is', 'ie', 'found', 'if', 'few', 'through', 'forty', 'whence', 'couldnt', 'what', 'namely', 'otherwise', 'have', 'third', 'seemed', 'other', 'whether', 'wherein', 'being', 'own', 'fifteen', 'sincere', 'three', 'elsewhere', 'seem', 'thereupon', 'thereby', 'four', 'had', 'me', 'well', 'under', 'eg', 'wherever', 'becomes', 'side', 'it', 'take', 'because', 'seems', 'thus', 'find', 'yours', 'as', 'against', 'some', 'been', 'put', 'name', 'that', 'last', 'becoming', 'via', 'one', 'whose', 'more', 'hundred', 'somehow', 'thin', 'cry', 'herself', 'would', 'themselves', 'since', 'my', 'meanwhile', 'where', 'done', 'hereafter', 'next', 'up', 'such', 'formerly', 'beyond', 'something', 'must', 'mine', 'her', 'get', 'whereby', 'was', 'around', 'than', 'many', 'onto', 'any', 'yourself', 'has', 'this', 'can', 'however', 'even', 'its', 'both', 'same', 'whenever', 'keep', 'either', 'former', 'except', 'several', 'six', 'anywhere', 'after', 'now', 'fifty', 'off', 'there', 'across', 'why', 'hers', 'bottom', 'thence', 'five', 'to', 'further', 'most', 'another', 'an', 'once', 'two', 'those', 'twenty', 'first', 'together', 'else', 'perhaps', 'become', 'rather', 'were', 'ten', 'into', 'beforehand', 'nevertheless', 'i', 'he', 'due', 'himself', 'within', 'not', 'amongst', 'herein', 'him', 'latter', 'along', 'your'})\n"
     ]
    }
   ],
   "source": [
    "from sklearn.feature_extraction import _stop_words\n",
    "print(_stop_words.ENGLISH_STOP_WORDS)"
   ]
  },
  {
   "cell_type": "markdown",
   "metadata": {},
   "source": [
    "You should have seen a large list of words that looks like:\n",
    "\n",
    "```frozenset({'across', 'mine', 'cannot', ...})```\n",
    "\n",
    "`frozenset` is a type of Python object that is immutable. In this lab you can use it just like an array without conversion."
   ]
  },
  {
   "cell_type": "markdown",
   "metadata": {},
   "source": [
    "Next, test your function with supplying `stop_words.ENGLISH_STOP_WORDS` as the second parameter."
   ]
  },
  {
   "cell_type": "code",
   "execution_count": 19,
   "metadata": {},
   "outputs": [
    {
     "ename": "KeyError",
     "evalue": "0",
     "output_type": "error",
     "traceback": [
      "\u001b[0;31m---------------------------------------------------------------------------\u001b[0m",
      "\u001b[0;31mKeyError\u001b[0m                                  Traceback (most recent call last)",
      "\u001b[0;32m<ipython-input-19-b2196306a10b>\u001b[0m in \u001b[0;36m<module>\u001b[0;34m\u001b[0m\n\u001b[0;32m----> 1\u001b[0;31m \u001b[0mbow\u001b[0m \u001b[0;34m=\u001b[0m \u001b[0mget_bow_from_docs\u001b[0m\u001b[0;34m(\u001b[0m\u001b[0mbow\u001b[0m\u001b[0;34m,\u001b[0m \u001b[0m_stop_words\u001b[0m\u001b[0;34m.\u001b[0m\u001b[0mENGLISH_STOP_WORDS\u001b[0m\u001b[0;34m)\u001b[0m\u001b[0;34m\u001b[0m\u001b[0;34m\u001b[0m\u001b[0m\n\u001b[0m\u001b[1;32m      2\u001b[0m \u001b[0;34m\u001b[0m\u001b[0m\n\u001b[1;32m      3\u001b[0m \u001b[0mprint\u001b[0m\u001b[0;34m(\u001b[0m\u001b[0mbow\u001b[0m\u001b[0;34m)\u001b[0m\u001b[0;34m\u001b[0m\u001b[0;34m\u001b[0m\u001b[0m\n",
      "\u001b[0;32m<ipython-input-5-07e02ad1e5f7>\u001b[0m in \u001b[0;36mget_bow_from_docs\u001b[0;34m(docs, stop_words)\u001b[0m\n\u001b[1;32m     15\u001b[0m     \u001b[0;31m# Write your code here\u001b[0m\u001b[0;34m\u001b[0m\u001b[0;34m\u001b[0m\u001b[0;34m\u001b[0m\u001b[0m\n\u001b[1;32m     16\u001b[0m     \u001b[0;32mfor\u001b[0m \u001b[0mi\u001b[0m \u001b[0;32min\u001b[0m \u001b[0mrange\u001b[0m\u001b[0;34m(\u001b[0m\u001b[0mlen\u001b[0m\u001b[0;34m(\u001b[0m\u001b[0mdocs\u001b[0m\u001b[0;34m)\u001b[0m\u001b[0;34m)\u001b[0m\u001b[0;34m:\u001b[0m\u001b[0;34m\u001b[0m\u001b[0;34m\u001b[0m\u001b[0m\n\u001b[0;32m---> 17\u001b[0;31m         \u001b[0;32mwith\u001b[0m \u001b[0mopen\u001b[0m\u001b[0;34m(\u001b[0m\u001b[0mdocs\u001b[0m\u001b[0;34m[\u001b[0m\u001b[0mi\u001b[0m\u001b[0;34m]\u001b[0m\u001b[0;34m,\u001b[0m \u001b[0;34m\"r\"\u001b[0m\u001b[0;34m)\u001b[0m \u001b[0;32mas\u001b[0m \u001b[0ma_file\u001b[0m\u001b[0;34m:\u001b[0m\u001b[0;34m\u001b[0m\u001b[0;34m\u001b[0m\u001b[0m\n\u001b[0m\u001b[1;32m     18\u001b[0m               \u001b[0;32mfor\u001b[0m \u001b[0mline\u001b[0m \u001b[0;32min\u001b[0m \u001b[0ma_file\u001b[0m\u001b[0;34m:\u001b[0m\u001b[0;34m\u001b[0m\u001b[0;34m\u001b[0m\u001b[0m\n\u001b[1;32m     19\u001b[0m                 \u001b[0mstripped_line\u001b[0m \u001b[0;34m=\u001b[0m \u001b[0mline\u001b[0m\u001b[0;34m.\u001b[0m\u001b[0mstrip\u001b[0m\u001b[0;34m(\u001b[0m\u001b[0;34m)\u001b[0m\u001b[0;34m\u001b[0m\u001b[0;34m\u001b[0m\u001b[0m\n",
      "\u001b[0;31mKeyError\u001b[0m: 0"
     ]
    }
   ],
   "source": [
    "bow = get_bow_from_docs(bow, _stop_words.ENGLISH_STOP_WORDS)\n",
    "\n",
    "print(bow)"
   ]
  },
  {
   "cell_type": "markdown",
   "metadata": {},
   "source": [
    "You should have seen:\n",
    "\n",
    "```{'bag_of_words': ['ironhack', 'cool', 'love', 'student'], 'term_freq': [[1, 1, 0, 0], [1, 0, 1, 0], [1, 0, 0, 1]]}```"
   ]
  },
  {
   "cell_type": "code",
   "execution_count": 20,
   "metadata": {},
   "outputs": [
    {
     "name": "stdout",
     "output_type": "stream",
     "text": [
      "['doc1.txt', 'doc2.txt', 'doc3.txt']\n"
     ]
    }
   ],
   "source": [
    "print(docs)"
   ]
  },
  {
   "cell_type": "code",
   "execution_count": null,
   "metadata": {},
   "outputs": [],
   "source": []
  }
 ],
 "metadata": {
  "kernelspec": {
   "display_name": "Python 3",
   "language": "python",
   "name": "python3"
  },
  "language_info": {
   "codemirror_mode": {
    "name": "ipython",
    "version": 3
   },
   "file_extension": ".py",
   "mimetype": "text/x-python",
   "name": "python",
   "nbconvert_exporter": "python",
   "pygments_lexer": "ipython3",
   "version": "3.9.5"
  }
 },
 "nbformat": 4,
 "nbformat_minor": 2
}
