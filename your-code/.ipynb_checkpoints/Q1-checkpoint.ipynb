{
 "cells": [
  {
   "cell_type": "markdown",
   "metadata": {},
   "source": [
    "In the cell below, create a Python function that wraps your previous solution for the Bag of Words lab.\n",
    "\n",
    "Requirements:\n",
    "\n",
    "1. Your function should accept the following parameters:\n",
    "    * `docs` [REQUIRED] - array of document paths.\n",
    "    * `stop_words` [OPTIONAL] - array of stop words. The default value is an empty array.\n",
    "\n",
    "1. Your function should return a Python object that contains the following:\n",
    "    * `bag_of_words` - array of strings of normalized unique words in the corpus.\n",
    "    * `term_freq` - array of the term-frequency vectors."
   ]
  },
  {
   "cell_type": "code",
   "execution_count": 59,
   "metadata": {},
   "outputs": [],
   "source": [
    "# Import required libraries\n",
    "import os\n",
    "import re\n",
    "\n",
    "# Define function\n",
    "def get_bow_from_docs(docs, stop_words=['all', 'six', 'less', 'being', 'indeed', 'over', 'move', 'anyway', 'fifty', 'four', 'not', 'own', 'through', 'yourselves', 'go', 'where', 'mill', 'only', 'find', 'before', 'one', 'whose', 'system', 'how', 'somewhere', 'with', 'thick', 'show', 'had', 'enough', 'should', 'to', 'must', 'whom', 'seeming', 'under', 'ours', 'has', 'might', 'thereafter', 'latterly', 'do', 'them', 'his', 'around', 'than', 'get', 'very', 'de', 'none', 'cannot', 'every', 'whether', 'they', 'front', 'during', 'thus', 'now', 'him', 'nor', 'name', 'several', 'hereafter', 'always', 'who', 'cry', 'whither', 'this', 'someone', 'either', 'each', 'become', 'thereupon', 'sometime', 'side', 'two', 'therein', 'twelve', 'because', 'often', 'ten', 'our', 'eg', 'some', 'back', 'up', 'namely', 'towards', 'are', 'further', 'beyond', 'ourselves', 'yet', 'out', 'even', 'will', 'what', 'still', 'for', 'bottom', 'mine', 'since', 'please', 'forty', 'per', 'its', 'everything', 'behind', 'un', 'above', 'between', 'it', 'neither', 'seemed', 'ever', 'across', 'she', 'somehow', 'be', 'we', 'full', 'never', 'sixty', 'however', 'here', 'otherwise', 'were', 'whereupon', 'nowhere', 'although', 'found', 'alone', 're', 'along', 'fifteen', 'by', 'both', 'about', 'last', 'would', 'anything', 'via', 'many', 'could', 'thence', 'put', 'against', 'keep', 'etc', 'amount', 'became', 'ltd', 'hence', 'onto', 'or', 'con', 'among', 'already', 'co', 'afterwards', 'formerly', 'within', 'seems', 'into', 'others', 'while', 'whatever', 'except', 'down', 'hers', 'everyone', 'done', 'least', 'another', 'whoever', 'moreover', 'couldnt', 'throughout', 'anyhow', 'yourself', 'three', 'from', 'her', 'few', 'together', 'top', 'there', 'due', 'been', 'next', 'anyone', 'eleven', 'much', 'call', 'therefore', 'interest', 'then', 'thru', 'themselves', 'hundred', 'was', 'sincere', 'empty', 'more', 'himself', 'elsewhere', 'mostly', 'on', 'fire', 'am', 'becoming', 'hereby', 'amongst', 'else', 'part', 'everywhere', 'too', 'herself', 'former', 'those', 'he', 'me', 'myself', 'made', 'twenty', 'these', 'bill', 'cant', 'us', 'until', 'besides', 'nevertheless', 'below', 'anywhere', 'nine', 'can', 'of', 'your', 'toward', 'my', 'something', 'and', 'whereafter', 'whenever', 'give', 'almost', 'wherever', 'is', 'describe', 'beforehand', 'herein', 'an', 'as', 'itself', 'at', 'have', 'in', 'seem', 'whence', 'ie', 'any', 'fill', 'again', 'hasnt', 'inc', 'thereby', 'thin', 'no', 'perhaps', 'latter', 'meanwhile', 'when', 'detail', 'same', 'wherein', 'beside', 'also', 'that', 'other', 'take', 'which', 'becomes', 'you', 'if', 'nobody', 'see', 'though', 'may', 'after', 'upon', 'most', 'hereupon', 'eight', 'but', 'serious', 'nothing', 'such', 'why', 'a', 'off', 'whereby', 'third', 'i', 'whole', 'noone', 'sometimes', 'well', 'amoungst', 'yours', 'their', 'rather', 'without', 'so', 'five', 'the', 'first', 'whereas', 'once'\n",
    "]):\n",
    "    \n",
    " # In the function, first define the variables you will use such as `corpus`, `bag_of_words`, and `term_freq`.\n",
    "\n",
    "    \n",
    "    \n",
    "    \"\"\"\n",
    "    Loop `docs` and read the content of each doc into a string in `corpus`.\n",
    "    Remember to convert the doc content to lowercases and remove punctuation.\n",
    "    \"\"\"\n",
    "    corpus = []\n",
    "\n",
    "\n",
    "    for doc in docs:\n",
    "        with open(doc, \"r\") as file:\n",
    "            corpus.append(file.readlines()[0])\n",
    "            \n",
    "    for i in range(len(corpus)):\n",
    "        corpus[i] = corpus[i].lower()\n",
    "        corpus[i] = re.sub(r\"[.]\", \" \", corpus[i])\n",
    "        #print(corpus)\n",
    "\n",
    "    #print(corpus)   \n",
    " \n",
    "    \"\"\"\n",
    "    Loop `corpus`. Append the terms in each doc into the `bag_of_words` array. The terms in `bag_of_words` \n",
    "    should be unique which means before adding each term you need to check if it's already added to the array.\n",
    "    In addition, check if each term is in the `stop_words` array. Only append the term to `bag_of_words`\n",
    "    if it is not a stop word.\n",
    "    \"\"\"\n",
    "    bag_of_words = []\n",
    "    corpus2 = \" \".join(corpus).split()\n",
    "    for word in corpus2: \n",
    "        if word not in bag_of_words:\n",
    "            bag_of_words.append(word.lower())\n",
    "    #print(bag_of_words)\n",
    "    \n",
    "    \n",
    "    \"\"\"\n",
    "    Loop `corpus` again. For each doc string, count the number of occurrences of each term in `bag_of_words`. \n",
    "    Create an array for each doc's term frequency and append it to `term_freq`.\n",
    "        \"\"\"\n",
    "    \n",
    "    for word in bag_of_words:\n",
    "        if word in stop_words:\n",
    "            \n",
    "            bag_of_words.remove(word)\n",
    "    #print(bag_of_words)\n",
    "\n",
    "    #cambiamos freq2 del lab de bow por freq\n",
    "    words = []\n",
    "    term_freq = []\n",
    "    for sentence in corpus:\n",
    "        words.append(sentence.split())\n",
    "\n",
    "    for i in range(len(words)):\n",
    "        occurences = []\n",
    "        for word in bag_of_words:\n",
    "            count = words[i].count(word)\n",
    "            occurences.append(count)\n",
    "        term_freq.append(occurences)\n",
    "    #print(term_freq)\n",
    "\n",
    "    \n",
    "    # Now return your output as an object\n",
    "    return {\n",
    "        \"bag_of_words\": bag_of_words,\n",
    "        \"term_freq\": term_freq\n",
    "    }\n",
    "    "
   ]
  },
  {
   "cell_type": "markdown",
   "metadata": {},
   "source": [
    "Test your function without stop words. You should see the output like below:\n",
    "\n",
    "```{'bag_of_words': ['ironhack', 'is', 'cool', 'i', 'love', 'am', 'a', 'student', 'at'], 'term_freq': [[1, 1, 1, 0, 0, 0, 0, 0, 0], [1, 0, 0, 1, 1, 0, 0, 0, 0], [1, 0, 0, 1, 0, 1, 1, 1, 1]]}```"
   ]
  },
  {
   "cell_type": "code",
   "execution_count": 60,
   "metadata": {},
   "outputs": [
    {
     "name": "stdout",
     "output_type": "stream",
     "text": [
      "<class 'str'>\n",
      "<class 'str'>\n",
      "<class 'str'>\n",
      "<class 'str'>\n",
      "<class 'str'>\n",
      "<class 'str'>\n",
      "<class 'str'>\n",
      "<class 'str'>\n",
      "<class 'str'>\n",
      "{'bag_of_words': ['ironhack', 'cool', 'love', 'a', 'student'], 'term_freq': [[1, 1, 0, 0, 0], [1, 0, 1, 0, 0], [1, 0, 0, 1, 1]]}\n"
     ]
    }
   ],
   "source": [
    "# Define doc paths array\n",
    "\n",
    "docs = ['doc1.txt', 'doc2.txt', 'doc3.txt']\n",
    "\n",
    "#Obtain BoW from your function\n",
    "bow = get_bow_from_docs(docs)\n",
    "\n",
    "# Print BoW\n",
    "print(bow)"
   ]
  },
  {
   "cell_type": "markdown",
   "metadata": {},
   "source": [
    "If your attempt above is successful, nice work done!\n",
    "\n",
    "Now test your function again with the stop words. In the previous lab we defined the stop words in a large array. In this lab, we'll import the stop words from Scikit-Learn."
   ]
  },
  {
   "cell_type": "code",
   "execution_count": 36,
   "metadata": {},
   "outputs": [
    {
     "name": "stdout",
     "output_type": "stream",
     "text": [
      "frozenset({'after', 'ie', 'in', 'perhaps', 'take', 'hereupon', 'thick', 'get', 'fifty', 'seemed', 'other', 'give', 'please', 'either', 'fire', 'where', 'part', 'beforehand', 'ltd', 'side', 'interest', 'via', 'beyond', 'if', 'before', 'there', 'sometimes', 'your', 'describe', 'who', 'well', 'less', 'latterly', 'both', 'along', 'ten', 'around', 'whom', 'whenever', 'seem', 'whereby', 'amount', 'as', 'con', 'bill', 'couldnt', 'against', 'de', 'none', 'five', 'i', 'hundred', 'together', 'find', 'call', 'first', 'whereafter', 'from', 'became', 'three', 'anywhere', 'although', 'be', 'anyhow', 'because', 'we', 'thru', 'amongst', 'such', 'formerly', 'moreover', 'must', 'cannot', 'that', 'over', 'anyway', 'out', 'few', 'until', 'has', 'sixty', 'had', 'toward', 'indeed', 'will', 'been', 'co', 'un', 'former', 'those', 'always', 'itself', 'here', 'they', 'upon', 'but', 'four', 'nevertheless', 'rather', 'were', 'then', 'only', 'wherever', 'fill', 'almost', 'himself', 'very', 'becomes', 'still', 'whether', 'thus', 'of', 'my', 'without', 'he', 'this', 'to', 'two', 'else', 'yours', 'even', 'several', 'detail', 'become', 'next', 'nine', 'on', 'latter', 'behind', 'empty', 'ourselves', 'same', 'most', 'alone', 'have', 'except', 'more', 'what', 'namely', 'about', 'done', 'its', 'move', 'keep', 'within', 'ours', 'twelve', 'once', 'up', 'him', 'eight', 'noone', 'put', 'not', 'amoungst', 'somewhere', 'and', 'me', 'or', 'hereafter', 'seeming', 'serious', 'fifteen', 'go', 'eleven', 'anyone', 'nobody', 'see', 'each', 'it', 'under', 'why', 'below', 'becoming', 'too', 'would', 'nothing', 'inc', 'whatever', 'whose', 'all', 'do', 'therefore', 'sometime', 'another', 'everything', 'seems', 'many', 'into', 'an', 'can', 'somehow', 'for', 'yourself', 'however', 'nowhere', 'otherwise', 'someone', 'neither', 'us', 'one', 'thereby', 'by', 'system', 'beside', 'cant', 'between', 'themselves', 'name', 'show', 'therein', 'forty', 'are', 'mill', 'third', 'with', 'at', 'made', 'meanwhile', 'hence', 'these', 'towards', 'due', 'found', 'since', 'twenty', 'thereafter', 'nor', 'elsewhere', 'wherein', 'could', 'them', 'any', 'something', 'her', 'already', 'never', 'how', 'am', 'when', 'hereby', 'thin', 'everyone', 'sincere', 'across', 'often', 'thence', 'whence', 'besides', 'our', 'whither', 'everywhere', 'which', 'the', 'may', 'herein', 'back', 'than', 'their', 'down', 'herself', 'full', 'his', 'while', 'enough', 'ever', 'own', 'though', 'onto', 'etc', 'you', 'further', 'yet', 'whole', 'thereupon', 'might', 'again', 'bottom', 'during', 'is', 'anything', 'was', 'now', 'so', 'no', 'top', 'mine', 'some', 'per', 'whereupon', 'whereas', 'least', 'afterwards', 'myself', 'off', 'hers', 'much', 'every', 'she', 'among', 'hasnt', 'yourselves', 'being', 'front', 'others', 'whoever', 'last', 'six', 'should', 'also', 'eg', 'through', 'a', 'cry', 'above', 're', 'throughout', 'mostly'})\n"
     ]
    }
   ],
   "source": [
    "from sklearn.feature_extraction import stop_words\n",
    "print(stop_words.ENGLISH_STOP_WORDS)"
   ]
  },
  {
   "cell_type": "markdown",
   "metadata": {},
   "source": [
    "You should have seen a large list of words that looks like:\n",
    "\n",
    "```frozenset({'across', 'mine', 'cannot', ...})```\n",
    "\n",
    "`frozenset` is a type of Python object that is immutable. In this lab you can use it just like an array without conversion."
   ]
  },
  {
   "cell_type": "markdown",
   "metadata": {},
   "source": [
    "Next, test your function with supplying `stop_words.ENGLISH_STOP_WORDS` as the second parameter."
   ]
  },
  {
   "cell_type": "code",
   "execution_count": 58,
   "metadata": {},
   "outputs": [
    {
     "name": "stdout",
     "output_type": "stream",
     "text": [
      "{'bag_of_words': ['ironhack', 'cool', 'love', 'a', 'student'], 'term_freq': [[1, 1, 0, 0, 0], [1, 0, 1, 0, 0], [1, 0, 0, 1, 1]]}\n"
     ]
    }
   ],
   "source": [
    "# cambiamos bow por docs, porque bow contenía el diccionario final de la función \n",
    "#bow = get_bow_from_docs(docs)\n",
    "\n",
    "bow = get_bow_from_docs(docs, stop_words.ENGLISH_STOP_WORDS)\n",
    "\n",
    "print(bow)"
   ]
  },
  {
   "cell_type": "markdown",
   "metadata": {},
   "source": [
    "You should have seen:\n",
    "\n",
    "```{'bag_of_words': ['ironhack', 'cool', 'love', 'student'], 'term_freq': [[1, 1, 0, 0], [1, 0, 1, 0], [1, 0, 0, 1]]}```"
   ]
  },
  {
   "cell_type": "code",
   "execution_count": null,
   "metadata": {},
   "outputs": [],
   "source": []
  }
 ],
 "metadata": {
  "kernelspec": {
   "display_name": "Python 3",
   "language": "python",
   "name": "python3"
  },
  "language_info": {
   "codemirror_mode": {
    "name": "ipython",
    "version": 3
   },
   "file_extension": ".py",
   "mimetype": "text/x-python",
   "name": "python",
   "nbconvert_exporter": "python",
   "pygments_lexer": "ipython3",
   "version": "3.7.3"
  }
 },
 "nbformat": 4,
 "nbformat_minor": 2
}
