{
 "cells": [
  {
   "cell_type": "markdown",
   "metadata": {},
   "source": [
    "In the cell below, create a Python function that wraps your previous solution for the Bag of Words lab.\n",
    "\n",
    "Requirements:\n",
    "\n",
    "1. Your function should accept the following parameters:\n",
    "    * `docs` [REQUIRED] - array of document paths.\n",
    "    * `stop_words` [OPTIONAL] - array of stop words. The default value is an empty array.\n",
    "\n",
    "1. Your function should return a Python object that contains the following:\n",
    "    * `bag_of_words` - array of strings of normalized unique words in the corpus.\n",
    "    * `term_freq` - array of the term-frequency vectors.\n",
    "    \n"
   ]
  },
  {
   "cell_type": "code",
   "execution_count": 1,
   "metadata": {},
   "outputs": [
    {
     "name": "stdout",
     "output_type": "stream",
     "text": [
      "['ironhack', 'is', 'cool', 'i', 'love', 'am', 'a', 'student', 'at']\n",
      "[[1, 1, 1, 0, 0, 0, 0, 0, 0], [1, 0, 0, 1, 1, 0, 0, 0, 0], [1, 0, 0, 1, 0, 1, 1, 1, 1]]\n"
     ]
    }
   ],
   "source": []
  },
  {
   "cell_type": "code",
   "execution_count": 54,
   "metadata": {},
   "outputs": [],
   "source": [
    "\n",
    "# Write your code below\n",
    "\n",
    "\n",
    "# Import required libraries\n",
    "\n",
    "# Define function\n",
    "def get_bow_from_docs(docs, stop_words=[]):\n",
    "    \n",
    "    # In the function, first define the variables you will use such as `corpus`, `bag_of_words`, and `term_freq`.\n",
    "    bag_of_words = []\n",
    "    corpus = []\n",
    "    term_freq = []\n",
    "    \n",
    "    \"\"\"\n",
    "    Loop `docs` and read the content of each doc into a string in `corpus`.\n",
    "    Remember to convert the doc content to lowercases and remove punctuation.\n",
    "    \"\"\"\n",
    "\n",
    "    docs_array = [open(elemento,\"r\") for elemento in docs]\n",
    "    corpus = [f.read().lower().strip(\".\").strip(\",\").strip(\";\").strip(\":\") for f in docs_array]  \n",
    "    \n",
    "    \"\"\"\n",
    "    Loop `corpus`. Append the terms in each doc into the `bag_of_words` array. The terms in `bag_of_words` \n",
    "    should be unique which means before adding each term you need to check if it's already added to the array.\n",
    "    In addition, check if each term is in the `stop_words` array. Only append the term to `bag_of_words`\n",
    "    if it is not a stop word.\n",
    "    \"\"\"\n",
    "    lista = []\n",
    "    for i in corpus:\n",
    "        i = i.split()\n",
    "        for j in i:\n",
    "            if j not in bag_of_words:\n",
    "                bag_of_words.append(j)\n",
    "    \n",
    "    for word in bag_of_words:\n",
    "        if word not in stop_words:\n",
    "            lista.append(word)\n",
    "\n",
    "    \n",
    "    bag_of_words = lista\n",
    "    \n",
    "    \n",
    "    \"\"\"\n",
    "    Loop `corpus` again. For each doc string, count the number of occurrences of each term in `bag_of_words`. \n",
    "    Create an array for each doc's term frequency and append it to `term_freq`.\n",
    "    \"\"\"\n",
    "\n",
    "    for string in corpus:\n",
    "        freq_temp = []\n",
    "        for word in bag_of_words:\n",
    "                freq_temp.append(string.split().count(word))\n",
    "        term_freq.append(freq_temp)\n",
    "    \n",
    "    # Now return your output as an object\n",
    "    return {\n",
    "        \"bag_of_words\": bag_of_words,\n",
    "        \"term_freq\": term_freq\n",
    "    }\n",
    "   "
   ]
  },
  {
   "cell_type": "markdown",
   "metadata": {},
   "source": [
    "Test your function without stop words. You should see the output like below:\n",
    "\n",
    "```{'bag_of_words': ['ironhack', 'is', 'cool', 'i', 'love', 'am', 'a', 'student', 'at'], 'term_freq': [[1, 1, 1, 0, 0, 0, 0, 0, 0], [1, 0, 0, 1, 1, 0, 0, 0, 0], [1, 0, 0, 1, 0, 1, 1, 1, 1]]}```"
   ]
  },
  {
   "cell_type": "code",
   "execution_count": 27,
   "metadata": {},
   "outputs": [
    {
     "name": "stdout",
     "output_type": "stream",
     "text": [
      "{'bag_of_words': ['ironhack', 'is', 'mine', 'cool', 'i', 'love', 'am', 'a', 'student', 'at'], 'term_freq': [[1, 1, 1, 1, 0, 0, 0, 0, 0, 0], [1, 0, 0, 0, 1, 1, 0, 0, 0, 0], [1, 0, 0, 0, 1, 0, 1, 1, 1, 1]]}\n"
     ]
    }
   ],
   "source": [
    "# Define doc paths array\n",
    "docs = ['doc1.txt', 'doc2.txt', 'doc3.txt']\n",
    "\n",
    "# Obtain BoW from your function\n",
    "bow = get_bow_from_docs(docs)\n",
    "\n",
    "# Print BoW\n",
    "print(bow)"
   ]
  },
  {
   "cell_type": "markdown",
   "metadata": {},
   "source": [
    "If your attempt above is successful, nice work done!\n",
    "\n",
    "Now test your function again with the stop words. In the previous lab we defined the stop words in a large array. In this lab, we'll import the stop words from Scikit-Learn."
   ]
  },
  {
   "cell_type": "code",
   "execution_count": 43,
   "metadata": {},
   "outputs": [
    {
     "name": "stdout",
     "output_type": "stream",
     "text": [
      "frozenset({'noone', 'whose', 'her', 'side', 'those', 'are', 'thick', 'hence', 'yours', 'has', 'please', 'something', 'where', 'least', 'such', 'above', 'sometimes', 'him', 'already', 'due', 'own', 'last', 'among', 'a', 'anyhow', 'since', 'former', 'then', 'wherein', 'nowhere', 'am', 'against', 'its', 'cannot', 'four', 'only', 'up', 'five', 'ours', 'hereafter', 'several', 'into', 'and', 'however', 'neither', 'he', 'whereupon', 'must', 'nevertheless', 'perhaps', 'someone', 'below', 'my', 'they', 'alone', 'here', 'ourselves', 'should', 'themselves', 'before', 'find', 'behind', 'when', 'another', 'ltd', 'show', 'in', 'further', 'twenty', 'un', 'two', 'seemed', 'front', 'anyone', 'anyway', 'whereby', 'none', 'though', 'whole', 'now', 'that', 'enough', 'will', 'because', 'you', 'on', 'therein', 'whatever', 'many', 'towards', 'thus', 'himself', 'move', 'from', 'onto', 'hereupon', 'well', 'down', 'whoever', 'hers', 'between', 'along', 'seems', 'without', 'forty', 'indeed', 'these', 'cry', 'almost', 'empty', 'every', 'were', 'everywhere', 'off', 'although', 'she', 'top', 'everything', 'once', 'still', 'after', 'detail', 'by', 'them', 'describe', 'eight', 'three', 'latterly', 'seeming', 'meanwhile', 'fifteen', 'often', 'me', 'through', 'via', 'had', 'few', 'their', 'all', 'both', 'beforehand', 'becoming', 'get', 'see', 'whither', 'it', 'within', 'around', 'an', 'made', 'being', 'namely', 'nine', 'itself', 'done', 'ever', 'more', 'mine', 'upon', 'afterwards', 'put', 'very', 'fifty', 'less', 'may', 'nor', 'hundred', 'beyond', 'otherwise', 'as', 'what', 'so', 'why', 'your', 'much', 'whether', 'out', 'while', 'any', 'thin', 'one', 'would', 'full', 'across', 'even', 'besides', 'too', 'of', 'elsewhere', 'toward', 'thereupon', 'never', 'herself', 'wherever', 'nobody', 'whom', 'whereafter', 'thereby', 'go', 'de', 'to', 'also', 'take', 'found', 'yet', 'under', 'yourself', 'latter', 'during', 'ie', 'somehow', 'mill', 'couldnt', 'whence', 'have', 'con', 'thence', 'there', 'interest', 'is', 'inc', 'together', 'twelve', 'anything', 'eg', 'yourselves', 'system', 'no', 'was', 'thereafter', 'amount', 'his', 'therefore', 'seem', 'do', 'but', 'per', 'co', 'who', 'sometime', 'whenever', 'some', 'been', 'six', 'third', 'eleven', 'if', 're', 'etc', 'this', 'each', 'rather', 'sixty', 'ten', 'until', 'except', 'beside', 'keep', 'becomes', 'our', 'fire', 'hereby', 'give', 'over', 'others', 'sincere', 'myself', 'either', 'not', 'somewhere', 'back', 'moreover', 'mostly', 'bottom', 'become', 'always', 'could', 'throughout', 'whereas', 'everyone', 'name', 'we', 'which', 'same', 'at', 'can', 'herein', 'or', 'serious', 'than', 'i', 'became', 'call', 'for', 'thru', 'most', 'us', 'again', 'amongst', 'anywhere', 'fill', 'bill', 'next', 'formerly', 'hasnt', 'part', 'first', 'nothing', 'the', 'might', 'be', 'about', 'amoungst', 'with', 'else', 'other', 'cant', 'how'})\n"
     ]
    }
   ],
   "source": [
    "from sklearn.feature_extraction import stop_words\n",
    "'''lista = list(stop_words.ENGLISH_STOP_WORDS)\n",
    "for word in lista:\n",
    "    if (word == \"a\"):\n",
    "        print(\"Está\")\n",
    "    else:\n",
    "        print(\"No está\")\n",
    "\n",
    "'''\n",
    "print(stop_words.ENGLISH_STOP_WORDS)"
   ]
  },
  {
   "cell_type": "markdown",
   "metadata": {},
   "source": [
    "You should have seen a large list of words that looks like:\n",
    "\n",
    "```frozenset({'across', 'mine', 'cannot', ...})```\n",
    "\n",
    "`frozenset` is a type of Python object that is immutable. In this lab you can use it just like an array without conversion."
   ]
  },
  {
   "cell_type": "markdown",
   "metadata": {},
   "source": [
    "Next, test your function with supplying `stop_words.ENGLISH_STOP_WORDS` as the second parameter."
   ]
  },
  {
   "cell_type": "code",
   "execution_count": 55,
   "metadata": {},
   "outputs": [
    {
     "name": "stdout",
     "output_type": "stream",
     "text": [
      "{'bag_of_words': ['ironhack', 'cool', 'love', 'student'], 'term_freq': [[1, 1, 0, 0], [1, 0, 1, 0], [1, 0, 0, 1]]}\n"
     ]
    }
   ],
   "source": [
    "\n",
    "bow2 = get_bow_from_docs(docs, stop_words.ENGLISH_STOP_WORDS)\n",
    "\n",
    "print(bow2)"
   ]
  },
  {
   "cell_type": "markdown",
   "metadata": {},
   "source": [
    "You should have seen:\n",
    "\n",
    "```{'bag_of_words': ['ironhack', 'cool', 'love', 'student'], 'term_freq': [[1, 1, 0, 0], [1, 0, 1, 0], [1, 0, 0, 1]]}```"
   ]
  },
  {
   "cell_type": "code",
   "execution_count": null,
   "metadata": {},
   "outputs": [],
   "source": []
  }
 ],
 "metadata": {
  "kernelspec": {
   "display_name": "Python 3",
   "language": "python",
   "name": "python3"
  },
  "language_info": {
   "codemirror_mode": {
    "name": "ipython",
    "version": 3
   },
   "file_extension": ".py",
   "mimetype": "text/x-python",
   "name": "python",
   "nbconvert_exporter": "python",
   "pygments_lexer": "ipython3",
   "version": "3.7.3"
  }
 },
 "nbformat": 4,
 "nbformat_minor": 2
}
