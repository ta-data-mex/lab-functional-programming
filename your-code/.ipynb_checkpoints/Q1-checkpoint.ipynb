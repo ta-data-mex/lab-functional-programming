{
 "cells": [
  {
   "cell_type": "markdown",
   "metadata": {},
   "source": [
    "In the cell below, create a Python function that wraps your previous solution for the Bag of Words lab.\n",
    "\n",
    "Requirements:\n",
    "\n",
    "1. Your function should accept the following parameters:\n",
    "    * `docs` [REQUIRED] - array of document paths.\n",
    "    * `stop_words` [OPTIONAL] - array of stop words. The default value is an empty array.\n",
    "\n",
    "1. Your function should return a Python object that contains the following:\n",
    "    * `bag_of_words` - array of strings of normalized unique words in the corpus.\n",
    "    * `term_freq` - array of the term-frequency vectors."
   ]
  },
  {
   "cell_type": "code",
   "execution_count": 5,
   "metadata": {},
   "outputs": [],
   "source": [
    "\n",
    "# Import required libraries\n",
    "\n",
    "# Define function\n",
    "def get_bow_from_docs(docs, stop_words=[]):\n",
    "    \n",
    "    \n",
    "    # In the function, first define the variables you will use such as `corpus`, `bag_of_words`, and `term_freq`.\n",
    "    corpus = []\n",
    "    for doc in docs:\n",
    "        corpus.append(open(doc, 'r').read())\n",
    "        corpus2 = []\n",
    "    \"\"\"\n",
    "    Loop `docs` and read the content of each doc into a string in `corpus`.\n",
    "    Remember to convert the doc content to lowercases and remove punctuation.\n",
    "    \"\"\"\n",
    "    \n",
    "\n",
    "    for i in corpus:\n",
    "        corpus2.append(i.lower().replace(\".\", \"\"))\n",
    "    bag_of_words = []\n",
    "\n",
    "    for i in corpus2:\n",
    "        words = i.split()\n",
    "        for w in words:\n",
    "            if w not in bag_of_words and w not in stop_words:\n",
    "                bag_of_words.append(w)\n",
    "            \n",
    "                \n",
    "    #notin_stopwords = [item for item in bag_of_words if item not in stop_words]\n",
    "    print(bag_of_words)\n",
    "    term_freq = []\n",
    "    items = []\n",
    "\n",
    "    for i in corpus2:\n",
    "        items.append(i.split())\n",
    "\n",
    "    for i in range(len(items)):\n",
    "        temp = []\n",
    "        for y in bag_of_words:\n",
    "            temp.append(items[i].count(y))\n",
    "        term_freq.append(temp)\n",
    "    \n",
    "    \"\"\"\n",
    "    Loop `corpus`. Append the terms in each doc into the `bag_of_words` array. The terms in `bag_of_words` \n",
    "    should be unique which means before adding each term you need to check if it's already added to the array.\n",
    "    In addition, check if each term is in the `stop_words` array. Only append the term to `bag_of_words`\n",
    "    if it is not a stop word.\n",
    "    \"\"\"\n",
    "\n",
    "    \n",
    "    \n",
    "    \n",
    "    \"\"\"\n",
    "    Loop `corpus` again. For each doc string, count the number of occurrences of each term in `bag_of_words`. \n",
    "    Create an array for each doc's term frequency and append it to `term_freq`.\n",
    "    \"\"\"\n",
    "\n",
    "    \n",
    "    \n",
    "    # Now return your output as an object\n",
    "    return {\n",
    "        \"bag_of_words\": bag_of_words,\n",
    "        \"term_freq\": term_freq\n",
    "    }"
   ]
  },
  {
   "cell_type": "markdown",
   "metadata": {},
   "source": [
    "Test your function without stop words. You should see the output like below:\n",
    "\n",
    "```{'bag_of_words': ['ironhack', 'is', 'cool', 'i', 'love', 'am', 'a', 'student', 'at'], 'term_freq': [[1, 1, 1, 0, 0, 0, 0, 0, 0], [1, 0, 0, 1, 1, 0, 0, 0, 0], [1, 0, 0, 1, 0, 1, 1, 1, 1]]}```"
   ]
  },
  {
   "cell_type": "code",
   "execution_count": 6,
   "metadata": {},
   "outputs": [
    {
     "name": "stdout",
     "output_type": "stream",
     "text": [
      "['ironhack', 'is', 'cool', 'i', 'love', 'am', 'a', 'student', 'at']\n",
      "{'bag_of_words': ['ironhack', 'is', 'cool', 'i', 'love', 'am', 'a', 'student', 'at'], 'term_freq': [[1, 1, 1, 0, 0, 0, 0, 0, 0], [1, 0, 0, 1, 1, 0, 0, 0, 0], [1, 0, 0, 1, 0, 1, 1, 1, 1]]}\n"
     ]
    }
   ],
   "source": [
    "# Define doc paths array\n",
    "docs = ['doc1.txt','doc2.txt','doc3.txt']\n",
    "\n",
    "# Obtain BoW from your function\n",
    "bow = get_bow_from_docs(docs)\n",
    "\n",
    "# Print BoW\n",
    "print(bow)"
   ]
  },
  {
   "cell_type": "markdown",
   "metadata": {},
   "source": [
    "If your attempt above is successful, nice work done!\n",
    "\n",
    "Now test your function again with the stop words. In the previous lab we defined the stop words in a large array. In this lab, we'll import the stop words from Scikit-Learn."
   ]
  },
  {
   "cell_type": "code",
   "execution_count": 7,
   "metadata": {},
   "outputs": [
    {
     "name": "stdout",
     "output_type": "stream",
     "text": [
      "frozenset({'such', 'no', 'whatever', 'will', 'for', 'ourselves', 'in', 'nine', 'something', 'thick', 'from', 'never', 'an', 'hers', 'forty', 'into', 'amount', 'though', 'thereupon', 'too', 'full', 'beside', 'un', 'go', 'describe', 'amoungst', 'so', 'cry', 'else', 'six', 'to', 'via', 'each', 'his', 'call', 'eg', 'everything', 'whereupon', 'same', 'although', 'seeming', 'whose', 'after', 'con', 'below', 'elsewhere', 'done', 'yourself', 'across', 'becomes', 'fifty', 'one', 'find', 'you', 'with', 'keep', 'mill', 'front', 'therein', 'any', 'along', 'due', 'who', 'except', 'not', 'hasnt', 'those', 'if', 'seems', 'do', 'were', 'could', 'namely', 'me', 'yet', 'becoming', 'most', 'its', 'would', 'co', 'us', 'thru', 'neither', 'she', 'mine', 'anywhere', 'myself', 'before', 'fire', 'why', 'it', 'everyone', 'four', 'please', 'thin', 'former', 'among', 'per', 'none', 'what', 'within', 'off', 'sometimes', 'yourselves', 'on', 'own', 'wherever', 'somehow', 'themselves', 'where', 'another', 'be', 'here', 'towards', 'less', 'throughout', 'always', 'around', 'everywhere', 'become', 'nevertheless', 'had', 'these', 'latterly', 'without', 'wherein', 'often', 'there', 'again', 'take', 'by', 'beforehand', 'whom', 'anyhow', 'i', 'nowhere', 'least', 'beyond', 'serious', 'name', 'whereas', 'sixty', 'them', 'my', 'seemed', 'very', 'first', 'should', 'must', 'somewhere', 'or', 'etc', 'whenever', 'moreover', 'side', 'is', 'under', 'anything', 'herein', 'over', 'anyone', 'third', 'part', 'hundred', 'whereby', 'he', 'much', 'afterwards', 'empty', 'detail', 'alone', 'between', 'either', 'fifteen', 'both', 'that', 'seem', 'someone', 'are', 'down', 'nothing', 'the', 'enough', 'ten', 'thence', 'whither', 'sincere', 'him', 'twenty', 'may', 'couldnt', 'whereafter', 'several', 'her', 'all', 'see', 'however', 'many', 'toward', 'our', 'ltd', 'which', 'formerly', 'already', 'while', 'further', 'even', 'top', 'meanwhile', 'upon', 'inc', 'get', 'ever', 'can', 'cannot', 'some', 'whence', 'back', 'a', 'hereupon', 'than', 'otherwise', 'about', 'give', 'last', 'thus', 'indeed', 'fill', 'as', 'few', 'when', 'thereby', 'put', 'show', 'above', 'almost', 'and', 'out', 'next', 'interest', 'together', 'whoever', 'still', 'through', 'this', 'twelve', 'hence', 'mostly', 'amongst', 'also', 'well', 'during', 'bottom', 'bill', 'five', 'then', 'made', 'being', 'eleven', 'eight', 'himself', 'been', 'thereafter', 'became', 'was', 'yours', 'two', 'hereafter', 'rather', 'itself', 'am', 'found', 'more', 'have', 'anyway', 'other', 'behind', 'your', 'ours', 'besides', 'onto', 'noone', 'their', 'cant', 'therefore', 'latter', 'whole', 'since', 'sometime', 'at', 'they', 'three', 'whether', 're', 'how', 'ie', 'has', 'because', 'until', 'now', 'might', 'but', 'nor', 'de', 'once', 'herself', 'every', 'against', 'of', 'perhaps', 'only', 'others', 'system', 'up', 'we', 'nobody', 'hereby', 'move'})\n"
     ]
    }
   ],
   "source": [
    "from sklearn.feature_extraction import stop_words\n",
    "print(stop_words.ENGLISH_STOP_WORDS)"
   ]
  },
  {
   "cell_type": "markdown",
   "metadata": {},
   "source": [
    "You should have seen a large list of words that looks like:\n",
    "\n",
    "```frozenset({'across', 'mine', 'cannot', ...})```\n",
    "\n",
    "`frozenset` is a type of Python object that is immutable. In this lab you can use it just like an array without conversion."
   ]
  },
  {
   "cell_type": "markdown",
   "metadata": {},
   "source": [
    "Next, test your function with supplying `stop_words.ENGLISH_STOP_WORDS` as the second parameter."
   ]
  },
  {
   "cell_type": "code",
   "execution_count": 9,
   "metadata": {},
   "outputs": [
    {
     "name": "stdout",
     "output_type": "stream",
     "text": [
      "['ironhack', 'cool', 'love', 'student']\n",
      "{'bag_of_words': ['ironhack', 'cool', 'love', 'student'], 'term_freq': [[1, 1, 0, 0], [1, 0, 1, 0], [1, 0, 0, 1]]}\n"
     ]
    }
   ],
   "source": [
    "bow = get_bow_from_docs(docs, stop_words.ENGLISH_STOP_WORDS)\n",
    "\n",
    "print(bow)"
   ]
  },
  {
   "cell_type": "markdown",
   "metadata": {},
   "source": [
    "You should have seen:\n",
    "\n",
    "```{'bag_of_words': ['ironhack', 'cool', 'love', 'student'], 'term_freq': [[1, 1, 0, 0], [1, 0, 1, 0], [1, 0, 0, 1]]}```"
   ]
  },
  {
   "cell_type": "code",
   "execution_count": null,
   "metadata": {},
   "outputs": [],
   "source": []
  }
 ],
 "metadata": {
  "kernelspec": {
   "display_name": "Python 3",
   "language": "python",
   "name": "python3"
  },
  "language_info": {
   "codemirror_mode": {
    "name": "ipython",
    "version": 3
   },
   "file_extension": ".py",
   "mimetype": "text/x-python",
   "name": "python",
   "nbconvert_exporter": "python",
   "pygments_lexer": "ipython3",
   "version": "3.7.4"
  }
 },
 "nbformat": 4,
 "nbformat_minor": 2
}
