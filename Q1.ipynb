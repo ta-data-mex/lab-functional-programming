{
 "cells": [
  {
   "cell_type": "markdown",
   "metadata": {},
   "source": [
    "In the cell below, create a Python function that wraps your previous solution for the Bag of Words lab.\n",
    "\n",
    "Requirements:\n",
    "\n",
    "1. Your function should accept the following parameters:\n",
    "    * `docs` [REQUIRED] - array of document paths.\n",
    "    * `stop_words` [OPTIONAL] - array of stop words. The default value is an empty array.\n",
    "\n",
    "1. Your function should return a Python object that contains the following:\n",
    "    * `bag_of_words` - array of strings of normalized unique words in the corpus.\n",
    "    * `term_freq` - array of the term-frequency vectors."
   ]
  },
  {
   "cell_type": "code",
   "execution_count": 69,
   "metadata": {},
   "outputs": [],
   "source": [
    "# Import required libraries\n",
    "import re\n",
    "\n",
    "# Define function\n",
    "def get_bow_from_docs(docs, stop_words=[]):   #este docs no refiere a los documentos. \n",
    "    \n",
    "    # In the function, first define the variables you will use such as `corpus`, `bag_of_words`, and `term_freq`.\n",
    "    corpus = []\n",
    "    bag_of_words = []\n",
    "    term_freq = []\n",
    "    \n",
    "    \n",
    "    \"\"\"\n",
    "    Loop `docs` and read the content of each doc into a string in `corpus`.\n",
    "    Remember to convert the doc content to lowercases and remove punctuation.\n",
    "    \"\"\"\n",
    "    for doc in docs:    #Pregunta, de dónde viene este (según yo lo saqué del antiguo ejercicio y por eso lo jala o de la función?)\n",
    "        corpus.append(open(doc,\"r\").read()) #esto abre los documentos y los lee, después los mete a corpus.\n",
    "                                            #esto abre los docs in doc y los mete en corpus (extrae las frases)\n",
    "\n",
    "    i = 0               #Definimos un iterador\n",
    "    for texto in corpus:\n",
    "        corpus[i] = re.findall('\\w+',texto.lower()) #para cada i (elemento dentro de la lista en corpus)\n",
    "        i += 1                                                       #se quitan los puntos, se pone todo en minúscula.\n",
    "#poem2 = poem.replace('\\n',' ').replace(',','').replace('.','').split(' ')  \n",
    "    \n",
    "    \"\"\"\n",
    "    Loop `corpus`. Append the terms in each doc into the `bag_of_words` array. The terms in `bag_of_words` \n",
    "    should be unique which means before adding each term you need to check if it's already added to the array.\n",
    "    In addition, check if each term is in the `stop_words` array. Only append the term to `bag_of_words`\n",
    "    if it is not a stop word.\n",
    "    \"\"\"\n",
    "    for phrase in corpus:\n",
    "        for word in phrase:\n",
    "            if word not in bag_of_words:\n",
    "                bag_of_words.append(word)\n",
    "    \n",
    "#for word in bag_of_words:\n",
    "#    if word in doc1:\n",
    "#        corpusa.append(1)\n",
    "#    else:\n",
    "#        corpusa.append(0)\n",
    "    \n",
    "    \"\"\"\n",
    "    Loop `corpus` again. For each doc string, count the number of occurrences of each term in `bag_of_words`. \n",
    "    Create an array for each doc's term frequency and append it to `term_freq`.\n",
    "    \"\"\"\n",
    "    for phrase in corpus:\n",
    "        repeticion = []\n",
    "        for word in bag_of_words:\n",
    "            if word in phrase:\n",
    "                repeticion.append(1)\n",
    "            else:\n",
    "                repeticion.append(0)\n",
    "        term_freq.append(repeticion)            \n",
    "\n",
    "    # Now return your output as an object\n",
    "    return {\n",
    "        \"bag_of_words\": bag_of_words,\n",
    "        \"term_freq\": term_freq\n",
    "    }\n"
   ]
  },
  {
   "cell_type": "markdown",
   "metadata": {},
   "source": [
    "Test your function without stop words. You should see the output like below:\n",
    "\n",
    "```{'bag_of_words': ['ironhack', 'is', 'cool', 'i', 'love', 'am', 'a', 'student', 'at'], 'term_freq': [[1, 1, 1, 0, 0, 0, 0, 0, 0], [1, 0, 0, 1, 1, 0, 0, 0, 0], [1, 0, 0, 1, 0, 1, 1, 1, 1]]}```"
   ]
  },
  {
   "cell_type": "code",
   "execution_count": 70,
   "metadata": {},
   "outputs": [
    {
     "name": "stdout",
     "output_type": "stream",
     "text": [
      "{'bag_of_words': ['ironhack', 'is', 'cool', 'i', 'love', 'am', 'a', 'student', 'at'], 'term_freq': [[1, 1, 1, 0, 0, 0, 0, 0, 0], [1, 0, 0, 1, 1, 0, 0, 0, 0], [1, 0, 0, 1, 0, 1, 1, 1, 1]]}\n"
     ]
    }
   ],
   "source": [
    "# Define doc paths array\n",
    "path =\"../../lab-string-operations/your-code/\"\n",
    "docs = [path + 'doc1.txt', path + 'doc2.txt',path + 'doc3.txt']\n",
    "\n",
    "# Obtain BoW from your function\n",
    "bow = get_bow_from_docs(docs)\n",
    "\n",
    "# Print BoW\n",
    "print(bow)"
   ]
  },
  {
   "cell_type": "markdown",
   "metadata": {},
   "source": [
    "If your attempt above is successful, nice work done!\n",
    "\n",
    "Now test your function again with the stop words. In the previous lab we defined the stop words in a large array. In this lab, we'll import the stop words from Scikit-Learn."
   ]
  },
  {
   "cell_type": "code",
   "execution_count": 71,
   "metadata": {
    "scrolled": true
   },
   "outputs": [
    {
     "name": "stdout",
     "output_type": "stream",
     "text": [
      "frozenset({'whoever', 'back', 'name', 'found', 'along', 'ours', 'perhaps', 'above', 'next', 'per', 'go', 'sincere', 'has', 'another', 'should', 'put', 'elsewhere', 'whereupon', 'again', 'anything', 'were', 'during', 'therefore', 'anyway', 'we', 'what', 'ever', 'fill', 'was', 'whose', 'he', 're', 'towards', 'so', 'be', 'through', 'much', 'find', 'seeming', 'whenever', 'somehow', 'whom', 'more', 'her', 'yourself', 'this', 'do', 'if', 'amongst', 'less', 'only', 'onto', 'front', 'out', 'eg', 'sometimes', 'however', 'almost', 'their', 'three', 'call', 'its', 'because', 'please', 'first', 'everything', 'ltd', 'either', 'un', 'serious', 'herself', 'thereafter', 'hers', 'hence', 'why', 'amount', 'can', 'forty', 'such', 'eleven', 'behind', 'whatever', 'besides', 'every', 'him', 'although', 'whole', 'myself', 'than', 'top', 'via', 'all', 'interest', 'many', 'see', 'i', 'otherwise', 'seems', 'becomes', 'one', 'wherever', 'beforehand', 'get', 'others', 'further', 'now', 'though', 'already', 'himself', 'else', 'five', 'cannot', 'me', 'us', 'some', 'never', 'ten', 'thereby', 'whither', 'while', 'co', 'often', 'against', 'bill', 'de', 'most', 'last', 'where', 'take', 'without', 'yours', 'thence', 'etc', 'when', 'rather', 'own', 'by', 'side', 'whereby', 'two', 'enough', 'whereafter', 'six', 'will', 'are', 'of', 'whereas', 'these', 'after', 'very', 'or', 'and', 'mill', 'they', 'thereupon', 'nevertheless', 'thus', 'to', 'ie', 'a', 'beyond', 'had', 'latter', 'noone', 'inc', 'them', 'none', 'over', 'twelve', 'became', 'she', 'twenty', 'any', 'no', 'nothing', 'before', 'since', 'wherein', 'anywhere', 'four', 'few', 'herein', 'give', 'under', 'both', 'alone', 'that', 'which', 'still', 'cant', 'our', 'whether', 'across', 'couldnt', 'for', 'fire', 'it', 'third', 'but', 'thru', 'anyone', 'as', 'move', 'hereby', 'my', 'bottom', 'whence', 'everywhere', 'therein', 'around', 'there', 'nowhere', 'somewhere', 'moreover', 'anyhow', 'con', 'indeed', 'below', 'sometime', 'into', 'how', 'same', 'could', 'describe', 'other', 'amoungst', 'nor', 'here', 'in', 'you', 'am', 'his', 'cry', 'being', 'everyone', 'always', 'about', 'nine', 'among', 'together', 'part', 'system', 'hundred', 'neither', 'until', 'with', 'hereupon', 'least', 'mostly', 'down', 'upon', 'on', 'fifteen', 'due', 'seem', 'those', 'former', 'hereafter', 'yet', 'have', 'once', 'each', 'beside', 'latterly', 'eight', 'several', 'seemed', 'done', 'the', 'keep', 'yourselves', 'well', 'must', 'detail', 'formerly', 'except', 'between', 'not', 'ourselves', 'meanwhile', 'nobody', 'sixty', 'thin', 'fifty', 'thick', 'might', 'show', 'made', 'afterwards', 'from', 'too', 'even', 'hasnt', 'an', 'becoming', 'up', 'toward', 'is', 'at', 'would', 'namely', 'someone', 'off', 'themselves', 'full', 'who', 'throughout', 'within', 'been', 'also', 'empty', 'become', 'your', 'itself', 'then', 'may', 'something', 'mine'})\n"
     ]
    }
   ],
   "source": [
    "from sklearn.feature_extraction import stop_words\n",
    "print(stop_words.ENGLISH_STOP_WORDS)"
   ]
  },
  {
   "cell_type": "markdown",
   "metadata": {},
   "source": [
    "You should have seen a large list of words that looks like:\n",
    "\n",
    "```frozenset({'across', 'mine', 'cannot', ...})```\n",
    "\n",
    "`frozenset` is a type of Python object that is immutable. In this lab you can use it just like an array without conversion."
   ]
  },
  {
   "cell_type": "markdown",
   "metadata": {},
   "source": [
    "Next, test your function with supplying `stop_words.ENGLISH_STOP_WORDS` as the second parameter."
   ]
  },
  {
   "cell_type": "code",
   "execution_count": 72,
   "metadata": {},
   "outputs": [
    {
     "name": "stdout",
     "output_type": "stream",
     "text": [
      "{'bag_of_words': ['ironhack', 'is', 'cool', 'i', 'love', 'am', 'a', 'student', 'at'], 'term_freq': [[1, 1, 1, 0, 0, 0, 0, 0, 0], [1, 0, 0, 1, 1, 0, 0, 0, 0], [1, 0, 0, 1, 0, 1, 1, 1, 1]]}\n"
     ]
    }
   ],
   "source": [
    "bow = get_bow_from_docs(docs, stop_words.ENGLISH_STOP_WORDS)\n",
    "\n",
    "print(bow)"
   ]
  },
  {
   "cell_type": "markdown",
   "metadata": {},
   "source": [
    "You should have seen:\n",
    "\n",
    "```{'bag_of_words': ['ironhack', 'cool', 'love', 'student'], 'term_freq': [[1, 1, 0, 0], [1, 0, 1, 0], [1, 0, 0, 1]]}```"
   ]
  },
  {
   "cell_type": "code",
   "execution_count": 32,
   "metadata": {},
   "outputs": [],
   "source": []
  }
 ],
 "metadata": {
  "kernelspec": {
   "display_name": "Python 3",
   "language": "python",
   "name": "python3"
  },
  "language_info": {
   "codemirror_mode": {
    "name": "ipython",
    "version": 3
   },
   "file_extension": ".py",
   "mimetype": "text/x-python",
   "name": "python",
   "nbconvert_exporter": "python",
   "pygments_lexer": "ipython3",
   "version": "3.7.4"
  }
 },
 "nbformat": 4,
 "nbformat_minor": 2
}
